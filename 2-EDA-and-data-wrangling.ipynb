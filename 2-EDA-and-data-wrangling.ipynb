{
 "cells": [
  {
   "cell_type": "markdown",
   "id": "f7b57fd1",
   "metadata": {
    "papermill": {
     "duration": 0.013551,
     "end_time": "2022-09-13T17:46:07.306499",
     "exception": false,
     "start_time": "2022-09-13T17:46:07.292948",
     "status": "completed"
    },
    "tags": []
   },
   "source": [
    "The objective of this competition is to predict the probability that a customer does not pay back their credit card balance amount in the future based on their monthly customer profile. The target binary variable is calculated by observing 18 months performance window after the latest credit card statement, and if the customer does not pay due amount in 120 days after their latest statement date it is considered a default event.\n",
    "\n",
    "The dataset contains aggregated profile features for each customer at each statement date. Features are anonymized and normalized, and fall into the following general categories:\n",
    "\n",
    "    D_* = Delinquency variables\n",
    "    S_* = Spend variables\n",
    "    P_* = Payment variables\n",
    "    B_* = Balance variables\n",
    "    R_* = Risk variables"
   ]
  },
  {
   "cell_type": "markdown",
   "id": "e89100f0",
   "metadata": {
    "papermill": {
     "duration": 0.011158,
     "end_time": "2022-09-13T17:46:07.329288",
     "exception": false,
     "start_time": "2022-09-13T17:46:07.318130",
     "status": "completed"
    },
    "tags": []
   },
   "source": [
    "<a id = 1></a>\n",
    "### 1. Loading Dataset 🔃"
   ]
  },
  {
   "cell_type": "markdown",
   "id": "5db41f85",
   "metadata": {
    "papermill": {
     "duration": 0.010471,
     "end_time": "2022-09-13T17:46:07.351219",
     "exception": false,
     "start_time": "2022-09-13T17:46:07.340748",
     "status": "completed"
    },
    "tags": []
   },
   "source": [
    "1) Dataset provided by AMEX is too big more than 50GB .. It cannot fit into memory \n",
    "\n",
    "2) Used dataset published by @Munum , who converted .csv file to .ftr(feather file) \n",
    "\n",
    "3) Real Dataset Size :\n",
    "\n",
    "      Train_data.csv : 16.38 GB\n",
    "      Test_data.csv :  33.82 GB\n",
    "      Train_Lables.csv : 30.75 MB\n",
    "      Sample_submission.csv : 61.95 MB\n",
    "      \n",
    "      \n",
    " 4) Converted feather file size :\n",
    " \n",
    "       Train_data.ftr : 3.45 GB\n",
    "       Test_data.ftr :  6.96 GB\n",
    "      \n",
    "      "
   ]
  },
  {
   "cell_type": "code",
   "execution_count": 1,
   "id": "a160ba06",
   "metadata": {
    "execution": {
     "iopub.execute_input": "2022-09-13T17:46:07.375102Z",
     "iopub.status.busy": "2022-09-13T17:46:07.374622Z",
     "iopub.status.idle": "2022-09-13T17:46:08.698597Z",
     "shell.execute_reply": "2022-09-13T17:46:08.697474Z"
    },
    "papermill": {
     "duration": 1.339094,
     "end_time": "2022-09-13T17:46:08.701327",
     "exception": false,
     "start_time": "2022-09-13T17:46:07.362233",
     "status": "completed"
    },
    "tags": []
   },
   "outputs": [],
   "source": [
    "import pandas as pd\n",
    "import numpy as np\n",
    "import matplotlib.pyplot as plt\n",
    "import seaborn as sns\n",
    "import math\n",
    "from matplotlib.pyplot import figure"
   ]
  },
  {
   "cell_type": "code",
   "execution_count": 2,
   "id": "9e3b48ac",
   "metadata": {
    "execution": {
     "iopub.execute_input": "2022-09-13T17:46:08.728436Z",
     "iopub.status.busy": "2022-09-13T17:46:08.728021Z",
     "iopub.status.idle": "2022-09-13T17:46:09.836144Z",
     "shell.execute_reply": "2022-09-13T17:46:09.834783Z"
    },
    "papermill": {
     "duration": 1.12558,
     "end_time": "2022-09-13T17:46:09.839053",
     "exception": false,
     "start_time": "2022-09-13T17:46:08.713473",
     "status": "completed"
    },
    "tags": []
   },
   "outputs": [],
   "source": [
    "train_labels = pd.read_csv(\"../input/amex-default-prediction/train_labels.csv\")"
   ]
  },
  {
   "cell_type": "code",
   "execution_count": 3,
   "id": "8bb9fb99",
   "metadata": {
    "execution": {
     "iopub.execute_input": "2022-09-13T17:46:09.865327Z",
     "iopub.status.busy": "2022-09-13T17:46:09.864506Z",
     "iopub.status.idle": "2022-09-13T17:46:09.887191Z",
     "shell.execute_reply": "2022-09-13T17:46:09.886123Z"
    },
    "papermill": {
     "duration": 0.038764,
     "end_time": "2022-09-13T17:46:09.890269",
     "exception": false,
     "start_time": "2022-09-13T17:46:09.851505",
     "status": "completed"
    },
    "tags": []
   },
   "outputs": [
    {
     "data": {
      "text/html": [
       "<div>\n",
       "<style scoped>\n",
       "    .dataframe tbody tr th:only-of-type {\n",
       "        vertical-align: middle;\n",
       "    }\n",
       "\n",
       "    .dataframe tbody tr th {\n",
       "        vertical-align: top;\n",
       "    }\n",
       "\n",
       "    .dataframe thead th {\n",
       "        text-align: right;\n",
       "    }\n",
       "</style>\n",
       "<table border=\"1\" class=\"dataframe\">\n",
       "  <thead>\n",
       "    <tr style=\"text-align: right;\">\n",
       "      <th></th>\n",
       "      <th>customer_ID</th>\n",
       "      <th>target</th>\n",
       "    </tr>\n",
       "  </thead>\n",
       "  <tbody>\n",
       "    <tr>\n",
       "      <th>0</th>\n",
       "      <td>0000099d6bd597052cdcda90ffabf56573fe9d7c79be5f...</td>\n",
       "      <td>0</td>\n",
       "    </tr>\n",
       "    <tr>\n",
       "      <th>1</th>\n",
       "      <td>00000fd6641609c6ece5454664794f0340ad84dddce9a2...</td>\n",
       "      <td>0</td>\n",
       "    </tr>\n",
       "    <tr>\n",
       "      <th>2</th>\n",
       "      <td>00001b22f846c82c51f6e3958ccd81970162bae8b007e8...</td>\n",
       "      <td>0</td>\n",
       "    </tr>\n",
       "    <tr>\n",
       "      <th>3</th>\n",
       "      <td>000041bdba6ecadd89a52d11886e8eaaec9325906c9723...</td>\n",
       "      <td>0</td>\n",
       "    </tr>\n",
       "    <tr>\n",
       "      <th>4</th>\n",
       "      <td>00007889e4fcd2614b6cbe7f8f3d2e5c728eca32d9eb8a...</td>\n",
       "      <td>0</td>\n",
       "    </tr>\n",
       "  </tbody>\n",
       "</table>\n",
       "</div>"
      ],
      "text/plain": [
       "                                         customer_ID  target\n",
       "0  0000099d6bd597052cdcda90ffabf56573fe9d7c79be5f...       0\n",
       "1  00000fd6641609c6ece5454664794f0340ad84dddce9a2...       0\n",
       "2  00001b22f846c82c51f6e3958ccd81970162bae8b007e8...       0\n",
       "3  000041bdba6ecadd89a52d11886e8eaaec9325906c9723...       0\n",
       "4  00007889e4fcd2614b6cbe7f8f3d2e5c728eca32d9eb8a...       0"
      ]
     },
     "execution_count": 3,
     "metadata": {},
     "output_type": "execute_result"
    }
   ],
   "source": [
    "train_labels.head()"
   ]
  },
  {
   "cell_type": "code",
   "execution_count": 4,
   "id": "f8b52e1f",
   "metadata": {
    "execution": {
     "iopub.execute_input": "2022-09-13T17:46:09.915787Z",
     "iopub.status.busy": "2022-09-13T17:46:09.915012Z",
     "iopub.status.idle": "2022-09-13T17:46:09.923150Z",
     "shell.execute_reply": "2022-09-13T17:46:09.922069Z"
    },
    "papermill": {
     "duration": 0.023457,
     "end_time": "2022-09-13T17:46:09.925382",
     "exception": false,
     "start_time": "2022-09-13T17:46:09.901925",
     "status": "completed"
    },
    "tags": []
   },
   "outputs": [
    {
     "data": {
      "text/plain": [
       "(458913, 2)"
      ]
     },
     "execution_count": 4,
     "metadata": {},
     "output_type": "execute_result"
    }
   ],
   "source": [
    "train_labels.shape"
   ]
  },
  {
   "cell_type": "code",
   "execution_count": 5,
   "id": "cf6fbe4e",
   "metadata": {
    "execution": {
     "iopub.execute_input": "2022-09-13T17:46:09.950555Z",
     "iopub.status.busy": "2022-09-13T17:46:09.949719Z",
     "iopub.status.idle": "2022-09-13T17:46:09.970183Z",
     "shell.execute_reply": "2022-09-13T17:46:09.969209Z"
    },
    "papermill": {
     "duration": 0.035748,
     "end_time": "2022-09-13T17:46:09.972813",
     "exception": false,
     "start_time": "2022-09-13T17:46:09.937065",
     "status": "completed"
    },
    "tags": []
   },
   "outputs": [
    {
     "data": {
      "text/plain": [
       "0    340085\n",
       "1    118828\n",
       "Name: target, dtype: int64"
      ]
     },
     "execution_count": 5,
     "metadata": {},
     "output_type": "execute_result"
    }
   ],
   "source": [
    "train_labels['target'].value_counts()"
   ]
  },
  {
   "cell_type": "markdown",
   "id": "68bd0ab9",
   "metadata": {
    "papermill": {
     "duration": 0.011461,
     "end_time": "2022-09-13T17:46:09.996567",
     "exception": false,
     "start_time": "2022-09-13T17:46:09.985106",
     "status": "completed"
    },
    "tags": []
   },
   "source": [
    "1) Real dataset "
   ]
  },
  {
   "cell_type": "code",
   "execution_count": 6,
   "id": "e7a7382a",
   "metadata": {
    "execution": {
     "iopub.execute_input": "2022-09-13T17:46:10.021957Z",
     "iopub.status.busy": "2022-09-13T17:46:10.021343Z",
     "iopub.status.idle": "2022-09-13T17:46:52.792383Z",
     "shell.execute_reply": "2022-09-13T17:46:52.791364Z"
    },
    "papermill": {
     "duration": 42.78669,
     "end_time": "2022-09-13T17:46:52.794884",
     "exception": false,
     "start_time": "2022-09-13T17:46:10.008194",
     "status": "completed"
    },
    "tags": []
   },
   "outputs": [],
   "source": [
    "df_train = pd.read_parquet(\"../input/amex-parquet/train_data.parquet\")       "
   ]
  },
  {
   "cell_type": "code",
   "execution_count": 7,
   "id": "5a6abd40",
   "metadata": {
    "execution": {
     "iopub.execute_input": "2022-09-13T17:46:52.820359Z",
     "iopub.status.busy": "2022-09-13T17:46:52.819767Z",
     "iopub.status.idle": "2022-09-13T17:46:52.825507Z",
     "shell.execute_reply": "2022-09-13T17:46:52.824795Z"
    },
    "papermill": {
     "duration": 0.021012,
     "end_time": "2022-09-13T17:46:52.827730",
     "exception": false,
     "start_time": "2022-09-13T17:46:52.806718",
     "status": "completed"
    },
    "tags": []
   },
   "outputs": [
    {
     "data": {
      "text/plain": [
       "(5531451, 191)"
      ]
     },
     "execution_count": 7,
     "metadata": {},
     "output_type": "execute_result"
    }
   ],
   "source": [
    "df_train.shape"
   ]
  },
  {
   "cell_type": "markdown",
   "id": "0dd2c98d",
   "metadata": {
    "papermill": {
     "duration": 0.010967,
     "end_time": "2022-09-13T17:46:52.850569",
     "exception": false,
     "start_time": "2022-09-13T17:46:52.839602",
     "status": "completed"
    },
    "tags": []
   },
   "source": [
    "# EDA\n",
    "* data duplication detection\n",
    "* missing values\n",
    "* group the same customer id"
   ]
  },
  {
   "cell_type": "markdown",
   "id": "37cbcb6a",
   "metadata": {
    "papermill": {
     "duration": 0.010862,
     "end_time": "2022-09-13T17:46:52.872942",
     "exception": false,
     "start_time": "2022-09-13T17:46:52.862080",
     "status": "completed"
    },
    "tags": []
   },
   "source": [
    "## 1) Distribution of target values"
   ]
  },
  {
   "cell_type": "code",
   "execution_count": 8,
   "id": "3a87d648",
   "metadata": {
    "execution": {
     "iopub.execute_input": "2022-09-13T17:46:52.899665Z",
     "iopub.status.busy": "2022-09-13T17:46:52.898526Z",
     "iopub.status.idle": "2022-09-13T17:46:52.953415Z",
     "shell.execute_reply": "2022-09-13T17:46:52.952144Z"
    },
    "papermill": {
     "duration": 0.071418,
     "end_time": "2022-09-13T17:46:52.956315",
     "exception": false,
     "start_time": "2022-09-13T17:46:52.884897",
     "status": "completed"
    },
    "tags": []
   },
   "outputs": [],
   "source": [
    "tmp = df_train['target'].value_counts().div(len(df_train)).mul(100)"
   ]
  },
  {
   "cell_type": "code",
   "execution_count": 9,
   "id": "8532d3d5",
   "metadata": {
    "execution": {
     "iopub.execute_input": "2022-09-13T17:46:52.982012Z",
     "iopub.status.busy": "2022-09-13T17:46:52.980870Z",
     "iopub.status.idle": "2022-09-13T17:46:53.223250Z",
     "shell.execute_reply": "2022-09-13T17:46:53.221986Z"
    },
    "papermill": {
     "duration": 0.258652,
     "end_time": "2022-09-13T17:46:53.226766",
     "exception": false,
     "start_time": "2022-09-13T17:46:52.968114",
     "status": "completed"
    },
    "tags": []
   },
   "outputs": [
    {
     "data": {
      "image/png": "[encoded data removed]",
      "text/plain": [
       "<Figure size 432x288 with 1 Axes>"
      ]
     },
     "metadata": {
      "needs_background": "light"
     },
     "output_type": "display_data"
    }
   ],
   "source": [
    "ax = sns.barplot(x=tmp.index, y=tmp.values)\n",
    "ax.bar_label(ax.containers[0], fmt='%.f%%')\n",
    "plt.title(\"Distribution of a target variable\")\n",
    "plt.ylabel(\"Percentage [%]\")\n",
    "plt.show()"
   ]
  },
  {
   "cell_type": "markdown",
   "id": "ecdf48a0",
   "metadata": {
    "papermill": {
     "duration": 0.011975,
     "end_time": "2022-09-13T17:46:53.253127",
     "exception": false,
     "start_time": "2022-09-13T17:46:53.241152",
     "status": "completed"
    },
    "tags": []
   },
   "source": [
    "It's clear that our dataset is unbalanced and this is a crucial point to keep in mind while modelling. 25% of customers had a default - it will be worth investigating these two groups separately to find some differences. First let's see how many unique customers do we have."
   ]
  },
  {
   "cell_type": "code",
   "execution_count": 10,
   "id": "f6668512",
   "metadata": {
    "execution": {
     "iopub.execute_input": "2022-09-13T17:46:53.281926Z",
     "iopub.status.busy": "2022-09-13T17:46:53.281164Z",
     "iopub.status.idle": "2022-09-13T17:46:54.680745Z",
     "shell.execute_reply": "2022-09-13T17:46:54.679511Z"
    },
    "papermill": {
     "duration": 1.417057,
     "end_time": "2022-09-13T17:46:54.683250",
     "exception": false,
     "start_time": "2022-09-13T17:46:53.266193",
     "status": "completed"
    },
    "tags": []
   },
   "outputs": [
    {
     "data": {
      "text/html": [
       "<div>\n",
       "<style scoped>\n",
       "    .dataframe tbody tr th:only-of-type {\n",
       "        vertical-align: middle;\n",
       "    }\n",
       "\n",
       "    .dataframe tbody tr th {\n",
       "        vertical-align: top;\n",
       "    }\n",
       "\n",
       "    .dataframe thead th {\n",
       "        text-align: right;\n",
       "    }\n",
       "</style>\n",
       "<table border=\"1\" class=\"dataframe\">\n",
       "  <thead>\n",
       "    <tr style=\"text-align: right;\">\n",
       "      <th></th>\n",
       "      <th>customer_ID</th>\n",
       "      <th>target</th>\n",
       "    </tr>\n",
       "  </thead>\n",
       "  <tbody>\n",
       "    <tr>\n",
       "      <th>0</th>\n",
       "      <td>0000099d6bd597052cdcda90ffabf56573fe9d7c79be5f...</td>\n",
       "      <td>0</td>\n",
       "    </tr>\n",
       "    <tr>\n",
       "      <th>13</th>\n",
       "      <td>00000fd6641609c6ece5454664794f0340ad84dddce9a2...</td>\n",
       "      <td>0</td>\n",
       "    </tr>\n",
       "    <tr>\n",
       "      <th>26</th>\n",
       "      <td>00001b22f846c82c51f6e3958ccd81970162bae8b007e8...</td>\n",
       "      <td>0</td>\n",
       "    </tr>\n",
       "    <tr>\n",
       "      <th>39</th>\n",
       "      <td>000041bdba6ecadd89a52d11886e8eaaec9325906c9723...</td>\n",
       "      <td>0</td>\n",
       "    </tr>\n",
       "    <tr>\n",
       "      <th>52</th>\n",
       "      <td>00007889e4fcd2614b6cbe7f8f3d2e5c728eca32d9eb8a...</td>\n",
       "      <td>0</td>\n",
       "    </tr>\n",
       "    <tr>\n",
       "      <th>...</th>\n",
       "      <td>...</td>\n",
       "      <td>...</td>\n",
       "    </tr>\n",
       "    <tr>\n",
       "      <th>5531386</th>\n",
       "      <td>ffff41c8a52833b56430603969b9ca48d208e7c192c6a4...</td>\n",
       "      <td>0</td>\n",
       "    </tr>\n",
       "    <tr>\n",
       "      <th>5531399</th>\n",
       "      <td>ffff518bb2075e4816ee3fe9f3b152c57fc0e6f01bf7fd...</td>\n",
       "      <td>0</td>\n",
       "    </tr>\n",
       "    <tr>\n",
       "      <th>5531412</th>\n",
       "      <td>ffff9984b999fccb2b6127635ed0736dda94e544e67e02...</td>\n",
       "      <td>0</td>\n",
       "    </tr>\n",
       "    <tr>\n",
       "      <th>5531425</th>\n",
       "      <td>ffffa5c46bc8de74f5a4554e74e239c8dee6b9baf38814...</td>\n",
       "      <td>1</td>\n",
       "    </tr>\n",
       "    <tr>\n",
       "      <th>5531438</th>\n",
       "      <td>fffff1d38b785cef84adeace64f8f83db3a0c31e8d92ea...</td>\n",
       "      <td>0</td>\n",
       "    </tr>\n",
       "  </tbody>\n",
       "</table>\n",
       "<p>458913 rows × 2 columns</p>\n",
       "</div>"
      ],
      "text/plain": [
       "                                               customer_ID  target\n",
       "0        0000099d6bd597052cdcda90ffabf56573fe9d7c79be5f...       0\n",
       "13       00000fd6641609c6ece5454664794f0340ad84dddce9a2...       0\n",
       "26       00001b22f846c82c51f6e3958ccd81970162bae8b007e8...       0\n",
       "39       000041bdba6ecadd89a52d11886e8eaaec9325906c9723...       0\n",
       "52       00007889e4fcd2614b6cbe7f8f3d2e5c728eca32d9eb8a...       0\n",
       "...                                                    ...     ...\n",
       "5531386  ffff41c8a52833b56430603969b9ca48d208e7c192c6a4...       0\n",
       "5531399  ffff518bb2075e4816ee3fe9f3b152c57fc0e6f01bf7fd...       0\n",
       "5531412  ffff9984b999fccb2b6127635ed0736dda94e544e67e02...       0\n",
       "5531425  ffffa5c46bc8de74f5a4554e74e239c8dee6b9baf38814...       1\n",
       "5531438  fffff1d38b785cef84adeace64f8f83db3a0c31e8d92ea...       0\n",
       "\n",
       "[458913 rows x 2 columns]"
      ]
     },
     "execution_count": 10,
     "metadata": {},
     "output_type": "execute_result"
    }
   ],
   "source": [
    "df_train[['customer_ID','target']].drop_duplicates(subset=['customer_ID'])"
   ]
  },
  {
   "cell_type": "code",
   "execution_count": 11,
   "id": "17ed2b9d",
   "metadata": {
    "execution": {
     "iopub.execute_input": "2022-09-13T17:46:54.710166Z",
     "iopub.status.busy": "2022-09-13T17:46:54.709600Z",
     "iopub.status.idle": "2022-09-13T17:46:54.716334Z",
     "shell.execute_reply": "2022-09-13T17:46:54.715284Z"
    },
    "papermill": {
     "duration": 0.023485,
     "end_time": "2022-09-13T17:46:54.718940",
     "exception": false,
     "start_time": "2022-09-13T17:46:54.695455",
     "status": "completed"
    },
    "tags": []
   },
   "outputs": [
    {
     "data": {
      "text/plain": [
       "(458913, 2)"
      ]
     },
     "execution_count": 11,
     "metadata": {},
     "output_type": "execute_result"
    }
   ],
   "source": [
    "train_labels.shape"
   ]
  },
  {
   "cell_type": "markdown",
   "id": "923a1d02",
   "metadata": {
    "papermill": {
     "duration": 0.012385,
     "end_time": "2022-09-13T17:46:54.743055",
     "exception": false,
     "start_time": "2022-09-13T17:46:54.730670",
     "status": "completed"
    },
    "tags": []
   },
   "source": [
    "Comparing the length of df_train[['customer_ID','target']] and  train_labels, it is clear that though customer_ID can be repeated in df_train, but for the same 'customer_ID', the corresponding targets are same."
   ]
  },
  {
   "cell_type": "markdown",
   "id": "089664e9",
   "metadata": {
    "papermill": {
     "duration": 0.011378,
     "end_time": "2022-09-13T17:46:54.766301",
     "exception": false,
     "start_time": "2022-09-13T17:46:54.754923",
     "status": "completed"
    },
    "tags": []
   },
   "source": [
    "## 2) Missing values"
   ]
  },
  {
   "cell_type": "code",
   "execution_count": 12,
   "id": "b5512ff8",
   "metadata": {
    "execution": {
     "iopub.execute_input": "2022-09-13T17:46:54.792258Z",
     "iopub.status.busy": "2022-09-13T17:46:54.791119Z",
     "iopub.status.idle": "2022-09-13T17:46:57.515156Z",
     "shell.execute_reply": "2022-09-13T17:46:57.514032Z"
    },
    "papermill": {
     "duration": 2.739699,
     "end_time": "2022-09-13T17:46:57.517780",
     "exception": false,
     "start_time": "2022-09-13T17:46:54.778081",
     "status": "completed"
    },
    "tags": []
   },
   "outputs": [
    {
     "name": "stdout",
     "output_type": "stream",
     "text": [
      "the percentage of the columns with missing values: 63.87434554973822%\n"
     ]
    }
   ],
   "source": [
    "tmp = df_train.isna().sum().div(len(df_train)).mul(100).sort_values(ascending=False)\n",
    "miss_val = len(tmp[tmp>0])/len(tmp)*100\n",
    "print(f'the percentage of the columns with missing values: {miss_val}%')"
   ]
  },
  {
   "cell_type": "code",
   "execution_count": 13,
   "id": "458e9962",
   "metadata": {
    "execution": {
     "iopub.execute_input": "2022-09-13T17:46:57.544977Z",
     "iopub.status.busy": "2022-09-13T17:46:57.544526Z",
     "iopub.status.idle": "2022-09-13T17:46:59.707380Z",
     "shell.execute_reply": "2022-09-13T17:46:59.706184Z"
    },
    "papermill": {
     "duration": 2.179803,
     "end_time": "2022-09-13T17:46:59.710161",
     "exception": false,
     "start_time": "2022-09-13T17:46:57.530358",
     "status": "completed"
    },
    "tags": []
   },
   "outputs": [
    {
     "data": {
      "image/png": "[encoded data removed]",
      "text/plain": [
       "<Figure size 1440x720 with 1 Axes>"
      ]
     },
     "metadata": {
      "needs_background": "light"
     },
     "output_type": "display_data"
    }
   ],
   "source": [
    "from matplotlib.pyplot import figure\n",
    "figure(figsize=(20, 10))\n",
    "plt.style.use('Solarize_Light2')\n",
    "plt.bar(tmp.index, tmp.values)\n",
    "plt.title('Amount of missing data')\n",
    "plt.xticks(rotation=90)\n",
    "plt.ylabel('\"Percentage [%]\"')\n",
    "plt.show()"
   ]
  },
  {
   "cell_type": "code",
   "execution_count": 14,
   "id": "78a690df",
   "metadata": {
    "execution": {
     "iopub.execute_input": "2022-09-13T17:46:59.738962Z",
     "iopub.status.busy": "2022-09-13T17:46:59.738092Z",
     "iopub.status.idle": "2022-09-13T17:46:59.747354Z",
     "shell.execute_reply": "2022-09-13T17:46:59.746565Z"
    },
    "papermill": {
     "duration": 0.025318,
     "end_time": "2022-09-13T17:46:59.749374",
     "exception": false,
     "start_time": "2022-09-13T17:46:59.724056",
     "status": "completed"
    },
    "tags": []
   },
   "outputs": [
    {
     "data": {
      "text/plain": [
       "D_87     99.930127\n",
       "D_88     99.891457\n",
       "D_108    99.476846\n",
       "D_110    99.433530\n",
       "D_111    99.433530\n",
       "B_39     99.391986\n",
       "D_73     98.990211\n",
       "B_42     98.707789\n",
       "D_134    96.480146\n",
       "D_135    96.480146\n",
       "D_136    96.480146\n",
       "D_137    96.480146\n",
       "D_138    96.480146\n",
       "R_9      94.349891\n",
       "B_29     93.104594\n",
       "D_106    90.213255\n",
       "D_132    90.191055\n",
       "D_49     90.137597\n",
       "R_26     88.984717\n",
       "D_76     88.746226\n",
       "D_66     88.730733\n",
       "D_42     85.694278\n",
       "D_142    82.926577\n",
       "D_53     73.842921\n",
       "D_82     73.373406\n",
       "D_50     56.809723\n",
       "B_17     56.722874\n",
       "D_105    54.622756\n",
       "D_56     54.071581\n",
       "S_9      53.035686\n",
       "dtype: float64"
      ]
     },
     "execution_count": 14,
     "metadata": {},
     "output_type": "execute_result"
    }
   ],
   "source": [
    "tmp[:30]"
   ]
  },
  {
   "cell_type": "code",
   "execution_count": 15,
   "id": "4fb2a4d6",
   "metadata": {
    "execution": {
     "iopub.execute_input": "2022-09-13T17:46:59.777005Z",
     "iopub.status.busy": "2022-09-13T17:46:59.776232Z",
     "iopub.status.idle": "2022-09-13T17:46:59.782933Z",
     "shell.execute_reply": "2022-09-13T17:46:59.782081Z"
    },
    "papermill": {
     "duration": 0.023126,
     "end_time": "2022-09-13T17:46:59.785214",
     "exception": false,
     "start_time": "2022-09-13T17:46:59.762088",
     "status": "completed"
    },
    "tags": []
   },
   "outputs": [],
   "source": [
    "# calculate the percentages: (for one colum, the corresponding sum count of target=1 of non-nan values)/\n",
    "#(the corresponding total count of target=1 or target=0 of non-nan values) \n",
    "def del_no_miss(df_col):\n",
    "    percentage = df_train[~df_col.isna()].target.sum()/len(df_train[~df_col.isna()])\n",
    "    return(percentage)\n",
    "# calculate the percentages: (for one column, the corresponding sum count of target=1 of nan values)/\n",
    "#(the corresponding total count of target=1 or target=0 of nan values) \n",
    "def del_miss(df_col):\n",
    "    percentage = df_train[df_col.isna()].target.sum()/len(df_train[df_col.isna()])\n",
    "    return(percentage)"
   ]
  },
  {
   "cell_type": "code",
   "execution_count": 16,
   "id": "f15d36d7",
   "metadata": {
    "execution": {
     "iopub.execute_input": "2022-09-13T17:46:59.812977Z",
     "iopub.status.busy": "2022-09-13T17:46:59.812209Z",
     "iopub.status.idle": "2022-09-13T17:51:48.450731Z",
     "shell.execute_reply": "2022-09-13T17:51:48.449504Z"
    },
    "papermill": {
     "duration": 288.667831,
     "end_time": "2022-09-13T17:51:48.465729",
     "exception": false,
     "start_time": "2022-09-13T17:46:59.797898",
     "status": "completed"
    },
    "tags": []
   },
   "outputs": [
    {
     "name": "stdout",
     "output_type": "stream",
     "text": [
      "       no_miss_percent  miss_percent\n",
      "D_87          0.867012      0.248665\n",
      "D_88          0.796136      0.248503\n",
      "D_108         0.429124      0.248150\n",
      "D_110         0.557892      0.247338\n",
      "D_111         0.557892      0.247338\n",
      "B_39          0.548377      0.247266\n",
      "D_73          0.375269      0.247810\n",
      "B_42          0.115658      0.250844\n",
      "D_134         0.607281      0.236030\n",
      "D_135         0.607281      0.236030\n",
      "D_136         0.607281      0.236030\n",
      "D_137         0.607281      0.236030\n",
      "D_138         0.607281      0.236030\n",
      "R_9           0.579033      0.229339\n",
      "B_29          0.220093      0.251245\n",
      "D_106         0.550107      0.216442\n",
      "D_132         0.549830      0.216390\n",
      "D_49          0.550052      0.216168\n",
      "R_26          0.579678      0.208175\n",
      "D_76          0.102400      0.267700\n",
      "D_66          0.185524      0.257171\n",
      "D_42          0.498217      0.207509\n",
      "D_142         0.367016      0.224819\n",
      "D_53          0.434077      0.183573\n",
      "D_82          0.205855      0.264789\n",
      "D_50          0.181441      0.300533\n",
      "B_17          0.414864      0.122624\n",
      "D_105         0.304928      0.202716\n",
      "D_56          0.155962      0.328207\n",
      "S_9           0.223401      0.271852\n"
     ]
    }
   ],
   "source": [
    "keys = tmp[:30].index\n",
    "no_mis_values = []\n",
    "mis_values = []\n",
    "for i in keys:\n",
    "    no_mis_values.append(del_no_miss(df_train[i]))\n",
    "    mis_values.append(del_miss(df_train[i]))\n",
    "miss_data = pd.DataFrame(no_mis_values, index=keys, columns=['no_miss_percent'])\n",
    "miss_data['miss_percent'] = mis_values\n",
    "print(miss_data)"
   ]
  },
  {
   "cell_type": "markdown",
   "id": "9850ea0b",
   "metadata": {
    "papermill": {
     "duration": 0.012535,
     "end_time": "2022-09-13T17:51:48.491447",
     "exception": false,
     "start_time": "2022-09-13T17:51:48.478912",
     "status": "completed"
    },
    "tags": []
   },
   "source": [
    "We can delete 'B_29' and 'D-82'. The percentages of their missing values are over 70%, and for the default percentages of their missing values and non-missing, the values are around 25%, which are close to the while data's default percentage."
   ]
  },
  {
   "cell_type": "markdown",
   "id": "4c046b46",
   "metadata": {
    "papermill": {
     "duration": 0.012819,
     "end_time": "2022-09-13T17:51:48.518537",
     "exception": false,
     "start_time": "2022-09-13T17:51:48.505718",
     "status": "completed"
    },
    "tags": []
   },
   "source": [
    "## 3) Calculate correlation of 'D_*', 'S_*', 'P_*', 'B_*', 'R_*' respetively ( less memorry)"
   ]
  },
  {
   "cell_type": "code",
   "execution_count": 17,
   "id": "74435c9d",
   "metadata": {
    "execution": {
     "iopub.execute_input": "2022-09-13T17:51:48.546816Z",
     "iopub.status.busy": "2022-09-13T17:51:48.546346Z",
     "iopub.status.idle": "2022-09-13T17:51:48.555660Z",
     "shell.execute_reply": "2022-09-13T17:51:48.554389Z"
    },
    "papermill": {
     "duration": 0.026767,
     "end_time": "2022-09-13T17:51:48.558141",
     "exception": false,
     "start_time": "2022-09-13T17:51:48.531374",
     "status": "completed"
    },
    "tags": []
   },
   "outputs": [
    {
     "name": "stdout",
     "output_type": "stream",
     "text": [
      "D:50.26178010471204%, S:11.518324607329843%, P:1.5706806282722512%, B:20.94240837696335%, R:14.659685863874344%\n"
     ]
    }
   ],
   "source": [
    "# count 'D_*', 'S_*', 'P_*', 'B_*', 'R_*'\n",
    "alist = df_train.columns\n",
    "D_percent = sum(map(lambda x : 1 if 'D_' in x else 0, alist))/len(alist)*100\n",
    "S_percent = sum(map(lambda x : 1 if 'S_' in x else 0, alist))/len(alist)*100\n",
    "P_percent = sum(map(lambda x : 1 if 'P_' in x else 0, alist))/len(alist)*100\n",
    "B_percent = sum(map(lambda x : 1 if 'B_' in x else 0, alist))/len(alist)*100\n",
    "R_percent = sum(map(lambda x : 1 if 'R_' in x else 0, alist))/len(alist)*100\n",
    "\n",
    "print(f'D:{D_percent}%, S:{S_percent}%, P:{P_percent}%, B:{B_percent}%, R:{R_percent}%')"
   ]
  },
  {
   "cell_type": "code",
   "execution_count": 18,
   "id": "cf144c63",
   "metadata": {
    "execution": {
     "iopub.execute_input": "2022-09-13T17:51:48.586107Z",
     "iopub.status.busy": "2022-09-13T17:51:48.585669Z",
     "iopub.status.idle": "2022-09-13T17:51:48.592688Z",
     "shell.execute_reply": "2022-09-13T17:51:48.591583Z"
    },
    "papermill": {
     "duration": 0.02374,
     "end_time": "2022-09-13T17:51:48.595042",
     "exception": false,
     "start_time": "2022-09-13T17:51:48.571302",
     "status": "completed"
    },
    "tags": []
   },
   "outputs": [],
   "source": [
    "\n",
    "df_D = []\n",
    "df_S = []\n",
    "df_P = []\n",
    "df_B = []\n",
    "df_R = []\n",
    "for i in alist:\n",
    "    if 'D_' in i:\n",
    "        df_D.append(i)\n",
    "    if 'S_' in i:\n",
    "        df_S.append(i)\n",
    "    if 'P_' in i:\n",
    "        df_P.append(i)\n",
    "    if 'B_' in i:\n",
    "        df_B.append(i)\n",
    "    if 'R_' in i:\n",
    "        df_R.append(i)"
   ]
  },
  {
   "cell_type": "code",
   "execution_count": 19,
   "id": "47a51074",
   "metadata": {
    "execution": {
     "iopub.execute_input": "2022-09-13T17:51:48.623408Z",
     "iopub.status.busy": "2022-09-13T17:51:48.622775Z",
     "iopub.status.idle": "2022-09-13T17:51:48.628676Z",
     "shell.execute_reply": "2022-09-13T17:51:48.627849Z"
    },
    "papermill": {
     "duration": 0.022553,
     "end_time": "2022-09-13T17:51:48.630785",
     "exception": false,
     "start_time": "2022-09-13T17:51:48.608232",
     "status": "completed"
    },
    "tags": []
   },
   "outputs": [],
   "source": [
    "def func_corr(df):\n",
    "    corrMatrix = df_train[df].corr()\n",
    "    correlated_features = set()\n",
    "    for i in range(len(corrMatrix.columns)):\n",
    "        for j in range(i):\n",
    "            if abs(corrMatrix.iloc[i, j]) > 0.9:\n",
    "                colname = corrMatrix.columns[i]\n",
    "                correlated_features.add(colname)\n",
    "    return(correlated_features)"
   ]
  },
  {
   "cell_type": "code",
   "execution_count": 20,
   "id": "d5848cb7",
   "metadata": {
    "execution": {
     "iopub.execute_input": "2022-09-13T17:51:48.658873Z",
     "iopub.status.busy": "2022-09-13T17:51:48.658406Z",
     "iopub.status.idle": "2022-09-13T17:54:31.066028Z",
     "shell.execute_reply": "2022-09-13T17:54:31.064318Z"
    },
    "papermill": {
     "duration": 162.442089,
     "end_time": "2022-09-13T17:54:31.086054",
     "exception": false,
     "start_time": "2022-09-13T17:51:48.643965",
     "status": "completed"
    },
    "tags": []
   },
   "outputs": [
    {
     "data": {
      "text/plain": [
       "['D_143',\n",
       " 'D_77',\n",
       " 'D_119',\n",
       " 'D_75',\n",
       " 'D_104',\n",
       " 'D_141',\n",
       " 'D_74',\n",
       " 'S_24',\n",
       " 'S_7',\n",
       " 'B_15',\n",
       " 'B_11',\n",
       " 'B_23',\n",
       " 'B_33',\n",
       " 'B_37']"
      ]
     },
     "execution_count": 20,
     "metadata": {},
     "output_type": "execute_result"
    }
   ],
   "source": [
    "corrMatrix_D = func_corr(df_D)\n",
    "corrMatrix_S = func_corr(df_S)\n",
    "corrMatrix_P = func_corr(df_P)\n",
    "corrMatrix_B = func_corr(df_B)\n",
    "corrMatrix_R = func_corr(df_R)\n",
    "#print (corrMatrix_D, corrMatrix_S, corrMatrix_P, corrMatrix_B, corrMatrix_R)\n",
    "corr_list = list(corrMatrix_D)+list(corrMatrix_S)+list(corrMatrix_P)+list(corrMatrix_B)+list(corrMatrix_R)\n",
    "corr_list"
   ]
  },
  {
   "cell_type": "markdown",
   "id": "5ef8e6fc",
   "metadata": {
    "papermill": {
     "duration": 0.013203,
     "end_time": "2022-09-13T17:54:31.112770",
     "exception": false,
     "start_time": "2022-09-13T17:54:31.099567",
     "status": "completed"
    },
    "tags": []
   },
   "source": [
    "We can remove these features:'D_75','D_74','D_119','D_77','D_104','D_143','D_141','S_7','S_24','B_33','B_23','B_15','B_37','B_11', because their correlation values are more than 0.9 (the biggist correlation value is 1) with some features of the stayed features in the data."
   ]
  },
  {
   "cell_type": "markdown",
   "id": "d5f2a20e",
   "metadata": {
    "papermill": {
     "duration": 0.013237,
     "end_time": "2022-09-13T17:54:31.139389",
     "exception": false,
     "start_time": "2022-09-13T17:54:31.126152",
     "status": "completed"
    },
    "tags": []
   },
   "source": [
    "## 4) Categorical features"
   ]
  },
  {
   "cell_type": "markdown",
   "id": "cecfdaa1",
   "metadata": {
    "papermill": {
     "duration": 0.012992,
     "end_time": "2022-09-13T17:54:31.165904",
     "exception": false,
     "start_time": "2022-09-13T17:54:31.152912",
     "status": "completed"
    },
    "tags": []
   },
   "source": [
    "Columns in the dataset are divided by the organisers in the following groups:\n",
    "D_*: Delinquency variables\n",
    "S_*: Spend variables\n",
    "P_*: Payment variables\n",
    "B_*: Balance variables\n",
    "R_*: Risk variables\n",
    "Following features are categorical: B_30, B_38, D_63, D_64, D_66, D_68, D_114, D_116, D_117, D_120, D_126.\n",
    "\n",
    "S_2: contains a timestamp"
   ]
  },
  {
   "cell_type": "code",
   "execution_count": 21,
   "id": "332589a6",
   "metadata": {
    "execution": {
     "iopub.execute_input": "2022-09-13T17:54:31.196133Z",
     "iopub.status.busy": "2022-09-13T17:54:31.194885Z",
     "iopub.status.idle": "2022-09-13T17:55:17.240089Z",
     "shell.execute_reply": "2022-09-13T17:55:17.238814Z"
    },
    "papermill": {
     "duration": 46.076371,
     "end_time": "2022-09-13T17:55:17.255715",
     "exception": false,
     "start_time": "2022-09-13T17:54:31.179344",
     "status": "completed"
    },
    "tags": []
   },
   "outputs": [
    {
     "data": {
      "text/plain": [
       "B_30      object\n",
       "B_38      object\n",
       "D_63      object\n",
       "D_64      object\n",
       "D_66      object\n",
       "D_68      object\n",
       "D_114     object\n",
       "D_116     object\n",
       "D_117     object\n",
       "D_120     object\n",
       "D_126     object\n",
       "target    object\n",
       "dtype: object"
      ]
     },
     "execution_count": 21,
     "metadata": {},
     "output_type": "execute_result"
    }
   ],
   "source": [
    "categorical_features = ['B_30', 'B_38', 'D_63', 'D_64', 'D_66', 'D_68', 'D_114', 'D_116', 'D_117', 'D_120', 'D_126', 'target']\n",
    "df_train[categorical_features] = df_train[categorical_features].astype(\"str\")\n",
    "df_train[categorical_features].dtypes"
   ]
  },
  {
   "cell_type": "code",
   "execution_count": 22,
   "id": "a78c64ba",
   "metadata": {
    "execution": {
     "iopub.execute_input": "2022-09-13T17:55:17.284420Z",
     "iopub.status.busy": "2022-09-13T17:55:17.283999Z",
     "iopub.status.idle": "2022-09-13T17:55:17.289079Z",
     "shell.execute_reply": "2022-09-13T17:55:17.287847Z"
    },
    "papermill": {
     "duration": 0.022382,
     "end_time": "2022-09-13T17:55:17.291503",
     "exception": false,
     "start_time": "2022-09-13T17:55:17.269121",
     "status": "completed"
    },
    "tags": []
   },
   "outputs": [],
   "source": [
    "#df_train[categorical_features].to_csv('amex_categorical_features1', index=False)"
   ]
  },
  {
   "cell_type": "code",
   "execution_count": 23,
   "id": "5bf760ec",
   "metadata": {
    "execution": {
     "iopub.execute_input": "2022-09-13T17:55:17.320321Z",
     "iopub.status.busy": "2022-09-13T17:55:17.319884Z",
     "iopub.status.idle": "2022-09-13T17:55:22.066834Z",
     "shell.execute_reply": "2022-09-13T17:55:22.065502Z"
    },
    "papermill": {
     "duration": 4.763967,
     "end_time": "2022-09-13T17:55:22.069124",
     "exception": false,
     "start_time": "2022-09-13T17:55:17.305157",
     "status": "completed"
    },
    "tags": []
   },
   "outputs": [
    {
     "name": "stdout",
     "output_type": "stream",
     "text": [
      "B_30 ['0.0', '2.0', '1.0', 'nan']\n",
      "B_38 ['2.0', '1.0', '3.0', '5.0', '6.0', '7.0', '4.0', 'nan']\n",
      "D_63 ['CR', 'CO', 'CL', 'XZ', 'XM', 'XL']\n",
      "D_64 ['O', 'R', 'None', 'U', '-1']\n",
      "D_66 ['nan', '1.0', '0.0']\n",
      "D_68 ['6.0', '2.0', '3.0', 'nan', '5.0', '4.0', '0.0', '1.0']\n",
      "D_114 ['1.0', '0.0', 'nan']\n",
      "D_116 ['0.0', 'nan', '1.0']\n",
      "D_117 ['4.0', '-1.0', '6.0', '2.0', '1.0', 'nan', '3.0', '5.0']\n",
      "D_120 ['0.0', '1.0', 'nan']\n",
      "D_126 ['1.0', 'nan', '0.0', '-1.0']\n",
      "target ['0', '1']\n"
     ]
    }
   ],
   "source": [
    "# the unique values per categorical column\n",
    "for cf in categorical_features:\n",
    "    print(cf, list(df_train[cf].unique()))"
   ]
  },
  {
   "cell_type": "code",
   "execution_count": 24,
   "id": "677b0b43",
   "metadata": {
    "execution": {
     "iopub.execute_input": "2022-09-13T17:55:22.099283Z",
     "iopub.status.busy": "2022-09-13T17:55:22.098833Z",
     "iopub.status.idle": "2022-09-13T17:55:30.715765Z",
     "shell.execute_reply": "2022-09-13T17:55:30.714556Z"
    },
    "papermill": {
     "duration": 8.635038,
     "end_time": "2022-09-13T17:55:30.718345",
     "exception": false,
     "start_time": "2022-09-13T17:55:22.083307",
     "status": "completed"
    },
    "tags": []
   },
   "outputs": [
    {
     "data": {
      "text/html": [
       "<div>\n",
       "<style scoped>\n",
       "    .dataframe tbody tr th:only-of-type {\n",
       "        vertical-align: middle;\n",
       "    }\n",
       "\n",
       "    .dataframe tbody tr th {\n",
       "        vertical-align: top;\n",
       "    }\n",
       "\n",
       "    .dataframe thead th {\n",
       "        text-align: right;\n",
       "    }\n",
       "</style>\n",
       "<table border=\"1\" class=\"dataframe\">\n",
       "  <thead>\n",
       "    <tr style=\"text-align: right;\">\n",
       "      <th></th>\n",
       "      <th>B_30</th>\n",
       "      <th>B_38</th>\n",
       "      <th>D_63</th>\n",
       "      <th>D_64</th>\n",
       "      <th>D_66</th>\n",
       "      <th>D_68</th>\n",
       "      <th>D_114</th>\n",
       "      <th>D_116</th>\n",
       "      <th>D_117</th>\n",
       "      <th>D_120</th>\n",
       "      <th>D_126</th>\n",
       "    </tr>\n",
       "  </thead>\n",
       "  <tbody>\n",
       "    <tr>\n",
       "      <th>count</th>\n",
       "      <td>5531451</td>\n",
       "      <td>5531451</td>\n",
       "      <td>5531451</td>\n",
       "      <td>5531451</td>\n",
       "      <td>5531451</td>\n",
       "      <td>5531451</td>\n",
       "      <td>5531451</td>\n",
       "      <td>5531451</td>\n",
       "      <td>5531451</td>\n",
       "      <td>5531451</td>\n",
       "      <td>5531451</td>\n",
       "    </tr>\n",
       "    <tr>\n",
       "      <th>unique</th>\n",
       "      <td>4</td>\n",
       "      <td>8</td>\n",
       "      <td>6</td>\n",
       "      <td>5</td>\n",
       "      <td>3</td>\n",
       "      <td>8</td>\n",
       "      <td>3</td>\n",
       "      <td>3</td>\n",
       "      <td>8</td>\n",
       "      <td>3</td>\n",
       "      <td>4</td>\n",
       "    </tr>\n",
       "    <tr>\n",
       "      <th>top</th>\n",
       "      <td>0.0</td>\n",
       "      <td>2.0</td>\n",
       "      <td>CO</td>\n",
       "      <td>O</td>\n",
       "      <td>nan</td>\n",
       "      <td>6.0</td>\n",
       "      <td>1.0</td>\n",
       "      <td>0.0</td>\n",
       "      <td>-1.0</td>\n",
       "      <td>0.0</td>\n",
       "      <td>1.0</td>\n",
       "    </tr>\n",
       "    <tr>\n",
       "      <th>freq</th>\n",
       "      <td>4710663</td>\n",
       "      <td>1953232</td>\n",
       "      <td>4119621</td>\n",
       "      <td>2913244</td>\n",
       "      <td>4908097</td>\n",
       "      <td>2782455</td>\n",
       "      <td>3316478</td>\n",
       "      <td>5348109</td>\n",
       "      <td>1456084</td>\n",
       "      <td>4729723</td>\n",
       "      <td>4262414</td>\n",
       "    </tr>\n",
       "  </tbody>\n",
       "</table>\n",
       "</div>"
      ],
      "text/plain": [
       "           B_30     B_38     D_63     D_64     D_66     D_68    D_114  \\\n",
       "count   5531451  5531451  5531451  5531451  5531451  5531451  5531451   \n",
       "unique        4        8        6        5        3        8        3   \n",
       "top         0.0      2.0       CO        O      nan      6.0      1.0   \n",
       "freq    4710663  1953232  4119621  2913244  4908097  2782455  3316478   \n",
       "\n",
       "          D_116    D_117    D_120    D_126  \n",
       "count   5531451  5531451  5531451  5531451  \n",
       "unique        3        8        3        4  \n",
       "top         0.0     -1.0      0.0      1.0  \n",
       "freq    5348109  1456084  4729723  4262414  "
      ]
     },
     "execution_count": 24,
     "metadata": {},
     "output_type": "execute_result"
    }
   ],
   "source": [
    "df_train[['B_30', 'B_38', 'D_63', 'D_64', 'D_66', 'D_68', 'D_114', 'D_116', 'D_117', 'D_120', 'D_126']].describe()"
   ]
  },
  {
   "cell_type": "code",
   "execution_count": 25,
   "id": "73fbc269",
   "metadata": {
    "execution": {
     "iopub.execute_input": "2022-09-13T17:55:30.749651Z",
     "iopub.status.busy": "2022-09-13T17:55:30.748800Z",
     "iopub.status.idle": "2022-09-13T17:55:41.079088Z",
     "shell.execute_reply": "2022-09-13T17:55:41.078212Z"
    },
    "papermill": {
     "duration": 10.351839,
     "end_time": "2022-09-13T17:55:41.084757",
     "exception": false,
     "start_time": "2022-09-13T17:55:30.732918",
     "status": "completed"
    },
    "tags": []
   },
   "outputs": [
    {
     "data": {
      "image/png": "[encoded data removed]",
      "text/plain": [
       "<Figure size 1800x1440 with 12 Axes>"
      ]
     },
     "metadata": {},
     "output_type": "display_data"
    }
   ],
   "source": [
    "# the distribution for Categorical Variable\n",
    "# plot distribution of categorical variables\n",
    "fig,((ax1,ax2,ax3),(ax4,ax5,ax6),(ax7,ax8,ax9),(ax10,ax11,ax12)) = plt.subplots(4,3,figsize=(25,20))\n",
    "fig.suptitle('Distribution of Categorical Variable',fontsize=30)\n",
    "\n",
    "ax1.pie(df_train['target'].value_counts(dropna=False), autopct='%1.1f%%',shadow=True, startangle=90, colors={'aquamarine','mediumseagreen'})\n",
    "ax1.legend(labels = df_train['target'].value_counts(dropna=False).index, loc ='center left', bbox_to_anchor=(1, 0.5), title ='target',frameon = True)\n",
    "\n",
    "ax2.pie(df_train['B_30'].value_counts(dropna=False), autopct='%1.1f%%',shadow=True, startangle=90,explode=(0.0,0.1,0.3,0.5), colors={'tab:cyan','tab:olive','tab:pink','tab:brown'})\n",
    "ax2.legend(labels = df_train['B_30'].value_counts(dropna=False).index, loc ='center left', bbox_to_anchor=(1, 0.5), title ='B_30',frameon = True)\n",
    "\n",
    "ax3.pie(df_train['B_38'].value_counts(dropna=False), autopct='%1.1f%%',shadow=True, startangle=90,explode=(0.0,0.0,0.0,0.1,0.2,0.3,0.5,0.9),colors={'tab:cyan','tab:olive','tab:pink','tab:brown','tab:gray','tab:purple','tab:red','tab:green'})\n",
    "ax3.legend(labels = df_train['B_38'].value_counts(dropna=False).index, loc ='center left', bbox_to_anchor=(1, 0.5), title ='B_38',frameon = True)\n",
    "\n",
    "ax4.pie(df_train['D_63'].value_counts(dropna=False), autopct='%1.1f%%',shadow=True, startangle=90, explode=(0.0,0.0,0.1,0.3,0.5,0.7))\n",
    "ax4.legend(labels = df_train['D_63'].value_counts(dropna=False).index, loc ='center left', bbox_to_anchor=(1, 0.5),title ='D_63',frameon = True)\n",
    "\n",
    "ax5.pie(df_train['D_64'].value_counts(dropna=False), autopct='%1.1f%%',shadow=True, startangle=90,explode=(0.0,0.0,0.0,0.3,0.5))\n",
    "ax5.legend(labels = df_train['D_64'].value_counts(dropna=False).index, loc ='center left', bbox_to_anchor=(1, 0.5), title ='D_64',frameon = True)\n",
    "\n",
    "ax6.pie(df_train['D_66'].value_counts(dropna=False), autopct='%1.1f%%',shadow=True, startangle=90,explode=(0.0,0.3,0.5))\n",
    "ax6.legend(labels = df_train['D_66'].value_counts(dropna=False).index, loc ='center left', bbox_to_anchor=(1, 0.5), title ='D_66',frameon = True)\n",
    "\n",
    "ax7.pie(df_train['D_68'].value_counts(dropna=False), autopct='%1.1f%%',shadow=True, startangle=90,explode=(0.0,0.0,0.0,0.1,0.2,0.3,0.5,0.9))\n",
    "ax7.legend(labels = df_train['D_68'].value_counts(dropna=False).index, loc ='center left', bbox_to_anchor=(1, 0.5), title ='D_68',frameon = True)\n",
    "\n",
    "ax8.pie(df_train['D_114'].value_counts(dropna=False), autopct='%1.1f%%',shadow=True, startangle=90)\n",
    "ax8.legend(labels = df_train['D_114'].value_counts(dropna=False).index, loc ='center left', bbox_to_anchor=(1, 0.5), title ='D_114',frameon = True)\n",
    "\n",
    "ax9.pie(df_train['D_116'].value_counts(dropna=False), autopct='%1.1f%%',shadow=True, startangle=90,explode=(0.0,0.3,0.5))\n",
    "ax9.legend(labels = df_train['D_116'].value_counts(dropna=False).index, loc ='center left', bbox_to_anchor=(1, 0.5), title ='D_116',frameon = True)\n",
    "\n",
    "ax10.pie(df_train['D_117'].value_counts(dropna=False), autopct='%1.1f%%',shadow=True, startangle=90,explode=(0.0,0.0,0.0,0.0,0.1,0.3,0.5,0.9))\n",
    "ax10.legend(labels = df_train['D_117'].value_counts(dropna=False).index, loc ='center left', bbox_to_anchor=(1, 0.5), title ='D_117',frameon = True)\n",
    "\n",
    "ax11.pie(df_train['D_120'].value_counts(dropna=False), autopct='%1.1f%%',shadow=True, startangle=90)\n",
    "ax11.legend(labels = df_train['D_120'].value_counts(dropna=False).index, loc ='center left', bbox_to_anchor=(1, 0.5), title ='D_120',frameon = True)\n",
    "\n",
    "ax12.pie(df_train['D_126'].value_counts(dropna=False), autopct='%1.1f%%',shadow=True, startangle=90,explode=(0.0,0.0,0.1,0.3))\n",
    "ax12.legend(labels = df_train['D_126'].value_counts(dropna=False).index, loc ='center right', title ='D_126',frameon = True)\n",
    "\n",
    "plt.axis('equal')\n",
    "fig.show()"
   ]
  },
  {
   "cell_type": "markdown",
   "id": "a9a64908",
   "metadata": {
    "papermill": {
     "duration": 0.020422,
     "end_time": "2022-09-13T17:55:41.125332",
     "exception": false,
     "start_time": "2022-09-13T17:55:41.104910",
     "status": "completed"
    },
    "tags": []
   },
   "source": [
    "In order to clearly observe the relationships of features to features, features to targets, I also use powerbi to display the visual interaction options. In another notebook, I shows the results of power BI and discussion."
   ]
  },
  {
   "cell_type": "code",
   "execution_count": null,
   "id": "1a39a5c6",
   "metadata": {
    "papermill": {
     "duration": 0.019896,
     "end_time": "2022-09-13T17:55:41.165814",
     "exception": false,
     "start_time": "2022-09-13T17:55:41.145918",
     "status": "completed"
    },
    "tags": []
   },
   "outputs": [],
   "source": []
  },
  {
   "cell_type": "markdown",
   "id": "4189cd78",
   "metadata": {
    "papermill": {
     "duration": 0.020376,
     "end_time": "2022-09-13T17:55:41.206287",
     "exception": false,
     "start_time": "2022-09-13T17:55:41.185911",
     "status": "completed"
    },
    "tags": []
   },
   "source": [
    "## 4) Timestamp of custumer analysis"
   ]
  },
  {
   "cell_type": "code",
   "execution_count": 26,
   "id": "e99bc2b2",
   "metadata": {
    "execution": {
     "iopub.execute_input": "2022-09-13T17:55:41.250863Z",
     "iopub.status.busy": "2022-09-13T17:55:41.250343Z",
     "iopub.status.idle": "2022-09-13T17:55:43.856852Z",
     "shell.execute_reply": "2022-09-13T17:55:43.855757Z"
    },
    "papermill": {
     "duration": 2.63271,
     "end_time": "2022-09-13T17:55:43.859504",
     "exception": false,
     "start_time": "2022-09-13T17:55:41.226794",
     "status": "completed"
    },
    "tags": []
   },
   "outputs": [],
   "source": [
    "df_train['S_2'] = pd.to_datetime(df_train['S_2'])"
   ]
  },
  {
   "cell_type": "code",
   "execution_count": 27,
   "id": "d031291a",
   "metadata": {
    "execution": {
     "iopub.execute_input": "2022-09-13T17:55:43.901777Z",
     "iopub.status.busy": "2022-09-13T17:55:43.901315Z",
     "iopub.status.idle": "2022-09-13T17:55:43.947826Z",
     "shell.execute_reply": "2022-09-13T17:55:43.946535Z"
    },
    "papermill": {
     "duration": 0.070565,
     "end_time": "2022-09-13T17:55:43.950386",
     "exception": false,
     "start_time": "2022-09-13T17:55:43.879821",
     "status": "completed"
    },
    "tags": []
   },
   "outputs": [
    {
     "name": "stdout",
     "output_type": "stream",
     "text": [
      "Train dates range is from 2017-03-01 00:00:00 to 2018-03-31 00:00:00.\n"
     ]
    }
   ],
   "source": [
    "print(f'Train dates range is from {df_train[\"S_2\"].min()} to {df_train[\"S_2\"].max()}.')"
   ]
  },
  {
   "cell_type": "code",
   "execution_count": 28,
   "id": "3c9e4f90",
   "metadata": {
    "execution": {
     "iopub.execute_input": "2022-09-13T17:55:43.993588Z",
     "iopub.status.busy": "2022-09-13T17:55:43.993091Z",
     "iopub.status.idle": "2022-09-13T17:55:45.219027Z",
     "shell.execute_reply": "2022-09-13T17:55:45.218147Z"
    },
    "papermill": {
     "duration": 1.250369,
     "end_time": "2022-09-13T17:55:45.221590",
     "exception": false,
     "start_time": "2022-09-13T17:55:43.971221",
     "status": "completed"
    },
    "tags": []
   },
   "outputs": [],
   "source": [
    "df_train_time = df_train[~df_train.duplicated('customer_ID',keep=False)].sort_values(by='S_2')"
   ]
  },
  {
   "cell_type": "code",
   "execution_count": 29,
   "id": "11a07425",
   "metadata": {
    "execution": {
     "iopub.execute_input": "2022-09-13T17:55:45.264340Z",
     "iopub.status.busy": "2022-09-13T17:55:45.263684Z",
     "iopub.status.idle": "2022-09-13T17:55:45.292530Z",
     "shell.execute_reply": "2022-09-13T17:55:45.291783Z"
    },
    "papermill": {
     "duration": 0.052254,
     "end_time": "2022-09-13T17:55:45.294432",
     "exception": false,
     "start_time": "2022-09-13T17:55:45.242178",
     "status": "completed"
    },
    "tags": []
   },
   "outputs": [
    {
     "data": {
      "text/html": [
       "<div>\n",
       "<style scoped>\n",
       "    .dataframe tbody tr th:only-of-type {\n",
       "        vertical-align: middle;\n",
       "    }\n",
       "\n",
       "    .dataframe tbody tr th {\n",
       "        vertical-align: top;\n",
       "    }\n",
       "\n",
       "    .dataframe thead th {\n",
       "        text-align: right;\n",
       "    }\n",
       "</style>\n",
       "<table border=\"1\" class=\"dataframe\">\n",
       "  <thead>\n",
       "    <tr style=\"text-align: right;\">\n",
       "      <th></th>\n",
       "      <th>customer_ID</th>\n",
       "      <th>S_2</th>\n",
       "      <th>P_2</th>\n",
       "      <th>D_39</th>\n",
       "      <th>B_1</th>\n",
       "      <th>B_2</th>\n",
       "      <th>R_1</th>\n",
       "      <th>S_3</th>\n",
       "      <th>D_41</th>\n",
       "      <th>B_3</th>\n",
       "      <th>...</th>\n",
       "      <th>D_137</th>\n",
       "      <th>D_138</th>\n",
       "      <th>D_139</th>\n",
       "      <th>D_140</th>\n",
       "      <th>D_141</th>\n",
       "      <th>D_142</th>\n",
       "      <th>D_143</th>\n",
       "      <th>D_144</th>\n",
       "      <th>D_145</th>\n",
       "      <th>target</th>\n",
       "    </tr>\n",
       "  </thead>\n",
       "  <tbody>\n",
       "    <tr>\n",
       "      <th>1462969</th>\n",
       "      <td>4363c1f757573224396cb8e5dc7ae843cff3ba71d9144e...</td>\n",
       "      <td>2018-03-01</td>\n",
       "      <td>0.637957</td>\n",
       "      <td>0.009711</td>\n",
       "      <td>0.070743</td>\n",
       "      <td>0.811217</td>\n",
       "      <td>0.000418</td>\n",
       "      <td>0.341654</td>\n",
       "      <td>0.004326</td>\n",
       "      <td>0.004237</td>\n",
       "      <td>...</td>\n",
       "      <td>NaN</td>\n",
       "      <td>NaN</td>\n",
       "      <td>0.000056</td>\n",
       "      <td>0.006864</td>\n",
       "      <td>0.001114</td>\n",
       "      <td>NaN</td>\n",
       "      <td>0.002707</td>\n",
       "      <td>0.003968</td>\n",
       "      <td>0.007936</td>\n",
       "      <td>0</td>\n",
       "    </tr>\n",
       "    <tr>\n",
       "      <th>2242751</th>\n",
       "      <td>67a19b66a663910ec5d073e006788076dc4f382a2f58af...</td>\n",
       "      <td>2018-03-01</td>\n",
       "      <td>0.506360</td>\n",
       "      <td>0.007607</td>\n",
       "      <td>0.009536</td>\n",
       "      <td>0.817761</td>\n",
       "      <td>0.008091</td>\n",
       "      <td>0.321725</td>\n",
       "      <td>0.009474</td>\n",
       "      <td>0.003593</td>\n",
       "      <td>...</td>\n",
       "      <td>NaN</td>\n",
       "      <td>NaN</td>\n",
       "      <td>0.002722</td>\n",
       "      <td>0.000102</td>\n",
       "      <td>0.006295</td>\n",
       "      <td>NaN</td>\n",
       "      <td>0.009731</td>\n",
       "      <td>0.003492</td>\n",
       "      <td>0.006624</td>\n",
       "      <td>0</td>\n",
       "    </tr>\n",
       "    <tr>\n",
       "      <th>2235103</th>\n",
       "      <td>6748e568ff33eb7f6b6de2b4236c395fad9cba764f780f...</td>\n",
       "      <td>2018-03-01</td>\n",
       "      <td>0.348939</td>\n",
       "      <td>0.001580</td>\n",
       "      <td>0.031524</td>\n",
       "      <td>0.814125</td>\n",
       "      <td>0.502165</td>\n",
       "      <td>0.430684</td>\n",
       "      <td>0.000818</td>\n",
       "      <td>0.001448</td>\n",
       "      <td>...</td>\n",
       "      <td>NaN</td>\n",
       "      <td>NaN</td>\n",
       "      <td>0.003691</td>\n",
       "      <td>0.001248</td>\n",
       "      <td>0.006881</td>\n",
       "      <td>NaN</td>\n",
       "      <td>0.001181</td>\n",
       "      <td>0.008186</td>\n",
       "      <td>0.007501</td>\n",
       "      <td>0</td>\n",
       "    </tr>\n",
       "    <tr>\n",
       "      <th>3332276</th>\n",
       "      <td>99f6625e9884c0c1e6f7754c92d6ea89e43e94f5f1adf2...</td>\n",
       "      <td>2018-03-01</td>\n",
       "      <td>NaN</td>\n",
       "      <td>0.001540</td>\n",
       "      <td>0.002200</td>\n",
       "      <td>0.813513</td>\n",
       "      <td>0.009743</td>\n",
       "      <td>0.372339</td>\n",
       "      <td>0.004027</td>\n",
       "      <td>0.006099</td>\n",
       "      <td>...</td>\n",
       "      <td>NaN</td>\n",
       "      <td>NaN</td>\n",
       "      <td>0.003036</td>\n",
       "      <td>0.002154</td>\n",
       "      <td>0.003350</td>\n",
       "      <td>NaN</td>\n",
       "      <td>0.006451</td>\n",
       "      <td>0.007546</td>\n",
       "      <td>0.005591</td>\n",
       "      <td>0</td>\n",
       "    </tr>\n",
       "    <tr>\n",
       "      <th>3402474</th>\n",
       "      <td>9d3304d92dcfdef704232d1ebafe6ede53e21ce8b92c78...</td>\n",
       "      <td>2018-03-01</td>\n",
       "      <td>0.920494</td>\n",
       "      <td>0.005819</td>\n",
       "      <td>0.013349</td>\n",
       "      <td>0.814178</td>\n",
       "      <td>0.007411</td>\n",
       "      <td>0.162636</td>\n",
       "      <td>0.006904</td>\n",
       "      <td>0.004001</td>\n",
       "      <td>...</td>\n",
       "      <td>NaN</td>\n",
       "      <td>NaN</td>\n",
       "      <td>0.005349</td>\n",
       "      <td>0.009065</td>\n",
       "      <td>0.002919</td>\n",
       "      <td>NaN</td>\n",
       "      <td>0.008915</td>\n",
       "      <td>0.006633</td>\n",
       "      <td>0.006646</td>\n",
       "      <td>0</td>\n",
       "    </tr>\n",
       "  </tbody>\n",
       "</table>\n",
       "<p>5 rows × 191 columns</p>\n",
       "</div>"
      ],
      "text/plain": [
       "                                               customer_ID        S_2  \\\n",
       "1462969  4363c1f757573224396cb8e5dc7ae843cff3ba71d9144e... 2018-03-01   \n",
       "2242751  67a19b66a663910ec5d073e006788076dc4f382a2f58af... 2018-03-01   \n",
       "2235103  6748e568ff33eb7f6b6de2b4236c395fad9cba764f780f... 2018-03-01   \n",
       "3332276  99f6625e9884c0c1e6f7754c92d6ea89e43e94f5f1adf2... 2018-03-01   \n",
       "3402474  9d3304d92dcfdef704232d1ebafe6ede53e21ce8b92c78... 2018-03-01   \n",
       "\n",
       "              P_2      D_39       B_1       B_2       R_1       S_3      D_41  \\\n",
       "1462969  0.637957  0.009711  0.070743  0.811217  0.000418  0.341654  0.004326   \n",
       "2242751  0.506360  0.007607  0.009536  0.817761  0.008091  0.321725  0.009474   \n",
       "2235103  0.348939  0.001580  0.031524  0.814125  0.502165  0.430684  0.000818   \n",
       "3332276       NaN  0.001540  0.002200  0.813513  0.009743  0.372339  0.004027   \n",
       "3402474  0.920494  0.005819  0.013349  0.814178  0.007411  0.162636  0.006904   \n",
       "\n",
       "              B_3  ...  D_137  D_138     D_139     D_140     D_141  D_142  \\\n",
       "1462969  0.004237  ...    NaN    NaN  0.000056  0.006864  0.001114    NaN   \n",
       "2242751  0.003593  ...    NaN    NaN  0.002722  0.000102  0.006295    NaN   \n",
       "2235103  0.001448  ...    NaN    NaN  0.003691  0.001248  0.006881    NaN   \n",
       "3332276  0.006099  ...    NaN    NaN  0.003036  0.002154  0.003350    NaN   \n",
       "3402474  0.004001  ...    NaN    NaN  0.005349  0.009065  0.002919    NaN   \n",
       "\n",
       "            D_143     D_144     D_145  target  \n",
       "1462969  0.002707  0.003968  0.007936       0  \n",
       "2242751  0.009731  0.003492  0.006624       0  \n",
       "2235103  0.001181  0.008186  0.007501       0  \n",
       "3332276  0.006451  0.007546  0.005591       0  \n",
       "3402474  0.008915  0.006633  0.006646       0  \n",
       "\n",
       "[5 rows x 191 columns]"
      ]
     },
     "execution_count": 29,
     "metadata": {},
     "output_type": "execute_result"
    }
   ],
   "source": [
    "df_train_time.head()"
   ]
  },
  {
   "cell_type": "code",
   "execution_count": 30,
   "id": "8cade35f",
   "metadata": {
    "execution": {
     "iopub.execute_input": "2022-09-13T17:55:45.337424Z",
     "iopub.status.busy": "2022-09-13T17:55:45.336991Z",
     "iopub.status.idle": "2022-09-13T17:55:45.348297Z",
     "shell.execute_reply": "2022-09-13T17:55:45.347182Z"
    },
    "papermill": {
     "duration": 0.035297,
     "end_time": "2022-09-13T17:55:45.350501",
     "exception": false,
     "start_time": "2022-09-13T17:55:45.315204",
     "status": "completed"
    },
    "tags": []
   },
   "outputs": [
    {
     "data": {
      "text/plain": [
       "0    3401\n",
       "1    1719\n",
       "Name: target, dtype: int64"
      ]
     },
     "execution_count": 30,
     "metadata": {},
     "output_type": "execute_result"
    }
   ],
   "source": [
    "df_train_time.target.value_counts()"
   ]
  },
  {
   "cell_type": "markdown",
   "id": "0cbee0c8",
   "metadata": {
    "papermill": {
     "duration": 0.020251,
     "end_time": "2022-09-13T17:55:45.391999",
     "exception": false,
     "start_time": "2022-09-13T17:55:45.371748",
     "status": "completed"
    },
    "tags": []
   },
   "source": [
    "For this data, if customers applied Amex card after 2017-12-01 (in the former table, it shows customers first applied Amex card sfter 2018--03-01), their targets are not considered as default evenets. For in the description of this competition, it says, if the customer does not pay due amount in 120 days after their latest statement date it is considered a default event."
   ]
  },
  {
   "cell_type": "code",
   "execution_count": null,
   "id": "b2fa0fe1",
   "metadata": {
    "papermill": {
     "duration": 0.020156,
     "end_time": "2022-09-13T17:55:45.432581",
     "exception": false,
     "start_time": "2022-09-13T17:55:45.412425",
     "status": "completed"
    },
    "tags": []
   },
   "outputs": [],
   "source": []
  },
  {
   "cell_type": "code",
   "execution_count": null,
   "id": "b8ed406f",
   "metadata": {
    "papermill": {
     "duration": 0.020864,
     "end_time": "2022-09-13T17:55:45.474106",
     "exception": false,
     "start_time": "2022-09-13T17:55:45.453242",
     "status": "completed"
    },
    "tags": []
   },
   "outputs": [],
   "source": []
  },
  {
   "cell_type": "code",
   "execution_count": null,
   "id": "293d491b",
   "metadata": {
    "papermill": {
     "duration": 0.020805,
     "end_time": "2022-09-13T17:55:45.516339",
     "exception": false,
     "start_time": "2022-09-13T17:55:45.495534",
     "status": "completed"
    },
    "tags": []
   },
   "outputs": [],
   "source": []
  }
 ],
 "metadata": {
  "kernelspec": {
   "display_name": "Python 3",
   "language": "python",
   "name": "python3"
  },
  "language_info": {
   "codemirror_mode": {
    "name": "ipython",
    "version": 3
   },
   "file_extension": ".py",
   "mimetype": "text/x-python",
   "name": "python",
   "nbconvert_exporter": "python",
   "pygments_lexer": "ipython3",
   "version": "3.7.12"
  },
  "papermill": {
   "default_parameters": {},
   "duration": 592.137783,
   "end_time": "2022-09-13T17:55:48.161168",
   "environment_variables": {},
   "exception": null,
   "input_path": "__notebook__.ipynb",
   "output_path": "__notebook__.ipynb",
   "parameters": {},
   "start_time": "2022-09-13T17:45:56.023385",
   "version": "2.3.4"
  }
 },
 "nbformat": 4,
 "nbformat_minor": 5
}
