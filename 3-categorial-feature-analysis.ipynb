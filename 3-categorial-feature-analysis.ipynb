{
 "cells": [
  {
   "cell_type": "markdown",
   "id": "89399a6d",
   "metadata": {
    "papermill": {
     "duration": 0.003651,
     "end_time": "2022-09-13T18:03:42.710476",
     "exception": false,
     "start_time": "2022-09-13T18:03:42.706825",
     "status": "completed"
    },
    "tags": []
   },
   "source": [
    "### The objective of this competition is to predict the probability that a customer does not pay back their credit card balance amount in the future based on their monthly customer profile. The target binary variable is calculated by observing 18 months performance window after the latest credit card statement, and if the customer does not pay due amount in 120 days after their latest statement date it is considered a default event.\n",
    "\n",
    "The dataset contains aggregated profile features for each customer at each statement date. Features are anonymized and normalized, and fall into the following general categories:\n",
    "\n",
    "    D_* = Delinquency variables\n",
    "    S_* = Spend variables\n",
    "    P_* = Payment variables\n",
    "    B_* = Balance variables\n",
    "    R_* = Risk variables"
   ]
  },
  {
   "cell_type": "markdown",
   "id": "78c373ef",
   "metadata": {
    "papermill": {
     "duration": 0.002386,
     "end_time": "2022-09-13T18:03:42.715739",
     "exception": false,
     "start_time": "2022-09-13T18:03:42.713353",
     "status": "completed"
    },
    "tags": []
   },
   "source": [
    "## For categorical feature analysis, it just used as exercise, because the result with the combined feature below is worse. So I don't use it in training model."
   ]
  },
  {
   "cell_type": "code",
   "execution_count": 1,
   "id": "e73a05f0",
   "metadata": {
    "execution": {
     "iopub.execute_input": "2022-09-13T18:03:42.723309Z",
     "iopub.status.busy": "2022-09-13T18:03:42.722451Z",
     "iopub.status.idle": "2022-09-13T18:03:44.031286Z",
     "shell.execute_reply": "2022-09-13T18:03:44.030256Z"
    },
    "papermill": {
     "duration": 1.315812,
     "end_time": "2022-09-13T18:03:44.034058",
     "exception": false,
     "start_time": "2022-09-13T18:03:42.718246",
     "status": "completed"
    },
    "tags": []
   },
   "outputs": [],
   "source": [
    "import pandas as pd\n",
    "import numpy as np\n",
    "import matplotlib.pyplot as plt\n",
    "import seaborn as sns\n",
    "from matplotlib.pyplot import figure"
   ]
  },
  {
   "cell_type": "code",
   "execution_count": 2,
   "id": "f7e543aa",
   "metadata": {
    "execution": {
     "iopub.execute_input": "2022-09-13T18:03:44.041223Z",
     "iopub.status.busy": "2022-09-13T18:03:44.040692Z",
     "iopub.status.idle": "2022-09-13T18:04:23.197871Z",
     "shell.execute_reply": "2022-09-13T18:04:23.196778Z"
    },
    "papermill": {
     "duration": 39.163844,
     "end_time": "2022-09-13T18:04:23.200667",
     "exception": false,
     "start_time": "2022-09-13T18:03:44.036823",
     "status": "completed"
    },
    "tags": []
   },
   "outputs": [],
   "source": [
    "df_train = pd.read_parquet(\"../input/amex-parquet/train_data.parquet\")"
   ]
  },
  {
   "cell_type": "markdown",
   "id": "605abb25",
   "metadata": {
    "papermill": {
     "duration": 0.002373,
     "end_time": "2022-09-13T18:04:23.205974",
     "exception": false,
     "start_time": "2022-09-13T18:04:23.203601",
     "status": "completed"
    },
    "tags": []
   },
   "source": [
    "According to powerbi interaction analysis, I choose the following combined categorical features."
   ]
  },
  {
   "cell_type": "code",
   "execution_count": 3,
   "id": "5e2a6d19",
   "metadata": {
    "execution": {
     "iopub.execute_input": "2022-09-13T18:04:23.213246Z",
     "iopub.status.busy": "2022-09-13T18:04:23.212364Z",
     "iopub.status.idle": "2022-09-13T18:05:19.751177Z",
     "shell.execute_reply": "2022-09-13T18:05:19.749874Z"
    },
    "papermill": {
     "duration": 56.545288,
     "end_time": "2022-09-13T18:05:19.753870",
     "exception": false,
     "start_time": "2022-09-13T18:04:23.208582",
     "status": "completed"
    },
    "tags": []
   },
   "outputs": [
    {
     "name": "stderr",
     "output_type": "stream",
     "text": [
      "/opt/conda/lib/python3.7/site-packages/ipykernel_launcher.py:8: FutureWarning: Index.__and__ operating as a set operation is deprecated, in the future this will be a logical operation matching Series.__and__.  Use index.intersection(other) instead\n",
      "  \n"
     ]
    },
    {
     "name": "stdout",
     "output_type": "stream",
     "text": [
      "                                               customer_ID target  pre_target\n",
      "0        0000099d6bd597052cdcda90ffabf56573fe9d7c79be5f...      0           0\n",
      "1        0000099d6bd597052cdcda90ffabf56573fe9d7c79be5f...      0           0\n",
      "2        0000099d6bd597052cdcda90ffabf56573fe9d7c79be5f...      0           0\n",
      "3        0000099d6bd597052cdcda90ffabf56573fe9d7c79be5f...      0           0\n",
      "4        0000099d6bd597052cdcda90ffabf56573fe9d7c79be5f...      0           0\n",
      "...                                                    ...    ...         ...\n",
      "5531354  fffee847c5c1af7dbdd36d98fea882893256c422cde86c...      0           0\n",
      "5531356  fffee847c5c1af7dbdd36d98fea882893256c422cde86c...      0           0\n",
      "5531357  fffee847c5c1af7dbdd36d98fea882893256c422cde86c...      0           0\n",
      "5531358  fffee847c5c1af7dbdd36d98fea882893256c422cde86c...      0           0\n",
      "5531359  fffee847c5c1af7dbdd36d98fea882893256c422cde86c...      0           0\n",
      "\n",
      "[1035706 rows x 3 columns]\n"
     ]
    }
   ],
   "source": [
    "categorical_features = ['customer_ID','B_30', 'B_38', 'D_63', 'D_64', 'D_66', 'D_68', 'D_114', 'D_116', 'D_117', 'D_120', 'D_126', 'target']\n",
    "df_train[categorical_features] = df_train[categorical_features].astype(\"str\")\n",
    "df_categ = df_train[categorical_features]\n",
    "    \n",
    "B30 = df_categ[df_categ.B_30=='0.0']\n",
    "B38 = df_categ[(df_categ.B_38=='1.0') | (df_categ.B_38=='2.0')]\n",
    "D = df_categ[(df_categ.D_114=='1.0') & (df_categ.D_64=='O') & (df_categ.D_68=='6.0')]\n",
    "U = B30.loc[B30.index & B38.index & D.index]  \n",
    "U['pre_target']=0\n",
    "    \n",
    "\n",
    "print(U[['customer_ID','target','pre_target']])"
   ]
  },
  {
   "cell_type": "code",
   "execution_count": 4,
   "id": "bc3ecd2c",
   "metadata": {
    "execution": {
     "iopub.execute_input": "2022-09-13T18:05:19.761578Z",
     "iopub.status.busy": "2022-09-13T18:05:19.761129Z",
     "iopub.status.idle": "2022-09-13T18:05:19.872435Z",
     "shell.execute_reply": "2022-09-13T18:05:19.871133Z"
    },
    "papermill": {
     "duration": 0.118211,
     "end_time": "2022-09-13T18:05:19.875058",
     "exception": false,
     "start_time": "2022-09-13T18:05:19.756847",
     "status": "completed"
    },
    "tags": []
   },
   "outputs": [
    {
     "data": {
      "text/plain": [
       "0    0.970569\n",
       "1    0.029431\n",
       "Name: target, dtype: float64"
      ]
     },
     "execution_count": 4,
     "metadata": {},
     "output_type": "execute_result"
    }
   ],
   "source": [
    "U.target.value_counts()/U.shape[0]"
   ]
  },
  {
   "cell_type": "markdown",
   "id": "2d389dc8",
   "metadata": {
    "papermill": {
     "duration": 0.002632,
     "end_time": "2022-09-13T18:05:19.880910",
     "exception": false,
     "start_time": "2022-09-13T18:05:19.878278",
     "status": "completed"
    },
    "tags": []
   },
   "source": [
    "For these categorical features: B_30('0.0'), B_38('1.0' or '2.0'), D_114('1.0'), D_64('O'), and D_68('6.0'), if samples have the all former information, we set their predicted target as 0. The accuracy of 1035706 samples is 0.97. "
   ]
  }
 ],
 "metadata": {
  "kernelspec": {
   "display_name": "Python 3",
   "language": "python",
   "name": "python3"
  },
  "language_info": {
   "codemirror_mode": {
    "name": "ipython",
    "version": 3
   },
   "file_extension": ".py",
   "mimetype": "text/x-python",
   "name": "python",
   "nbconvert_exporter": "python",
   "pygments_lexer": "ipython3",
   "version": "3.7.12"
  },
  "papermill": {
   "default_parameters": {},
   "duration": 110.642259,
   "end_time": "2022-09-13T18:05:22.606557",
   "environment_variables": {},
   "exception": null,
   "input_path": "__notebook__.ipynb",
   "output_path": "__notebook__.ipynb",
   "parameters": {},
   "start_time": "2022-09-13T18:03:31.964298",
   "version": "2.3.4"
  }
 },
 "nbformat": 4,
 "nbformat_minor": 5
}
