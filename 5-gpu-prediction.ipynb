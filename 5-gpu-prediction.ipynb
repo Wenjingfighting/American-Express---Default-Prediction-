{
 "cells": [
  {
   "cell_type": "markdown",
   "id": "7df2e24b",
   "metadata": {
    "papermill": {
     "duration": 0.00455,
     "end_time": "2022-09-13T23:45:35.364764",
     "exception": false,
     "start_time": "2022-09-13T23:45:35.360214",
     "status": "completed"
    },
    "tags": []
   },
   "source": [
    "This model is based on https://www.kaggle.com/code/kunheekimkr/amex-lgbm-gpu-starter-0-795."
   ]
  },
  {
   "cell_type": "markdown",
   "id": "09fe87ea",
   "metadata": {
    "papermill": {
     "duration": 0.003035,
     "end_time": "2022-09-13T23:45:35.371291",
     "exception": false,
     "start_time": "2022-09-13T23:45:35.368256",
     "status": "completed"
    },
    "tags": []
   },
   "source": [
    "# Load Libraries"
   ]
  },
  {
   "cell_type": "code",
   "execution_count": 1,
   "id": "a4c97fcd",
   "metadata": {
    "execution": {
     "iopub.execute_input": "2022-09-13T23:45:35.379787Z",
     "iopub.status.busy": "2022-09-13T23:45:35.379246Z",
     "iopub.status.idle": "2022-09-13T23:45:39.729184Z",
     "shell.execute_reply": "2022-09-13T23:45:39.727206Z"
    },
    "papermill": {
     "duration": 4.356701,
     "end_time": "2022-09-13T23:45:39.731182",
     "exception": false,
     "start_time": "2022-09-13T23:45:35.374481",
     "status": "completed"
    },
    "tags": []
   },
   "outputs": [
    {
     "name": "stdout",
     "output_type": "stream",
     "text": [
      "RAPIDS version 21.10.01\n"
     ]
    }
   ],
   "source": [
    "# LOAD LIBRARIES\n",
    "import pandas as pd, numpy as np # CPU libraries\n",
    "import cupy, cudf # GPU libraries\n",
    "import matplotlib.pyplot as plt, gc, os\n",
    "from tqdm.auto import tqdm\n",
    "\n",
    "print('RAPIDS version',cudf.__version__)\n",
    "\n",
    "import datetime\n",
    "import warnings\n",
    "import gc\n",
    "import pickle"
   ]
  },
  {
   "cell_type": "code",
   "execution_count": 2,
   "id": "0cb5f833",
   "metadata": {
    "execution": {
     "iopub.execute_input": "2022-09-13T23:45:39.739503Z",
     "iopub.status.busy": "2022-09-13T23:45:39.739190Z",
     "iopub.status.idle": "2022-09-13T23:45:39.743733Z",
     "shell.execute_reply": "2022-09-13T23:45:39.742992Z"
    },
    "papermill": {
     "duration": 0.010695,
     "end_time": "2022-09-13T23:45:39.745463",
     "exception": false,
     "start_time": "2022-09-13T23:45:39.734768",
     "status": "completed"
    },
    "tags": []
   },
   "outputs": [],
   "source": [
    "# VERSION NAME FOR SAVED MODEL FILES\n",
    "VER = 1\n",
    "\n",
    "# TRAIN RANDOM SEED\n",
    "SEED = 42\n",
    "\n",
    "# FILL NAN VALUE\n",
    "NAN_VALUE = -127 # will fit in int8\n",
    "\n",
    "# FOLDS PER MODEL\n",
    "FOLDS = 5"
   ]
  },
  {
   "cell_type": "markdown",
   "id": "d4a96281",
   "metadata": {
    "papermill": {
     "duration": 0.00318,
     "end_time": "2022-09-13T23:45:39.752140",
     "exception": false,
     "start_time": "2022-09-13T23:45:39.748960",
     "status": "completed"
    },
    "tags": []
   },
   "source": [
    "# Process and Feature Engineer Train Data\n",
    "We will load @raddar Kaggle dataset from [here][1] with discussion [here][2]. Then we will engineer features suggested by @huseyincot in his notebooks [here][3] and [here][4]. We will use [RAPIDS][5] and the GPU to create new features quickly.\n",
    "\n",
    "[1]: https://www.kaggle.com/datasets/raddar/amex-data-integer-dtypes-parquet-format\n",
    "[2]: https://www.kaggle.com/competitions/amex-default-prediction/discussion/328514\n",
    "[3]: https://www.kaggle.com/code/huseyincot/amex-catboost-0-793\n",
    "[4]: https://www.kaggle.com/code/huseyincot/amex-agg-data-how-it-created\n",
    "[5]: https://rapids.ai/"
   ]
  },
  {
   "cell_type": "code",
   "execution_count": 3,
   "id": "bc1adb71",
   "metadata": {
    "execution": {
     "iopub.execute_input": "2022-09-13T23:45:39.759896Z",
     "iopub.status.busy": "2022-09-13T23:45:39.759620Z",
     "iopub.status.idle": "2022-09-13T23:45:39.766232Z",
     "shell.execute_reply": "2022-09-13T23:45:39.765400Z"
    },
    "papermill": {
     "duration": 0.012432,
     "end_time": "2022-09-13T23:45:39.767877",
     "exception": false,
     "start_time": "2022-09-13T23:45:39.755445",
     "status": "completed"
    },
    "tags": []
   },
   "outputs": [],
   "source": [
    "def read_file(path = '', usecols = None):\n",
    "    # LOAD DATAFRAME\n",
    "    if usecols is not None: df = cudf.read_parquet(path, columns=usecols)\n",
    "    else: \n",
    "        df = cudf.read_parquet(path)\n",
    "        df = df.drop(columns=['B_29','D_82','D_75','D_74','D_119','D_77','D_104','D_143','D_141','S_7','S_24','B_33',\n",
    "                   'B_23','B_15','B_37','B_11','D_87','D_61','D_123','D_69','D_106','D_65','D_137','D_109',\n",
    "                   'D_49','D_135','D_50','D_71','D_93','D_138','B_40','B_10','B_6','B_12','B_27','B_13',\n",
    "                   'B_26','B_5','B_21','B_31','B_36'])\n",
    "    # REDUCE DTYPE FOR CUSTOMER AND DATE\n",
    "    df['customer_ID'] = df['customer_ID'].str[-16:].str.hex_to_int().astype('int64')\n",
    "    df.S_2 = cudf.to_datetime( df.S_2 )\n",
    "    # SORT BY CUSTOMER AND DATE (so agg('last') works correctly)\n",
    "    #df = df.sort_values(['customer_ID','S_2'])\n",
    "    #df = df.reset_index(drop=True)\n",
    "    # FILL NAN\n",
    "    df = df.fillna(NAN_VALUE) \n",
    "    print('shape of data:', df.shape)\n",
    "    \n",
    "    return df"
   ]
  },
  {
   "cell_type": "code",
   "execution_count": 4,
   "id": "c3e267fe",
   "metadata": {
    "execution": {
     "iopub.execute_input": "2022-09-13T23:45:39.775450Z",
     "iopub.status.busy": "2022-09-13T23:45:39.775157Z",
     "iopub.status.idle": "2022-09-13T23:45:39.786612Z",
     "shell.execute_reply": "2022-09-13T23:45:39.785721Z"
    },
    "papermill": {
     "duration": 0.017436,
     "end_time": "2022-09-13T23:45:39.788529",
     "exception": false,
     "start_time": "2022-09-13T23:45:39.771093",
     "status": "completed"
    },
    "tags": []
   },
   "outputs": [],
   "source": [
    "def get_difference(data, num_features):\n",
    "    second_last = data.groupby(['customer_ID'])[num_features].nth(-2)\n",
    "    last = data.groupby(['customer_ID'])[num_features].last()\n",
    "    returned_df = last - second_last\n",
    "    returned_df.columns = [col + '_diff1' for col in returned_df.columns]\n",
    "    returned_df.reset_index(inplace = True)\n",
    "    return returned_df\n",
    "\n",
    "\n",
    "def process_and_feature_engineer(df):\n",
    "    # FEATURE ENGINEERING FROM \n",
    "    # https://www.kaggle.com/code/huseyincot/amex-agg-data-how-it-created\n",
    "    all_cols = [c for c in list(df.columns) if c not in ['customer_ID','S_2']]\n",
    "    cat_features = [\"B_30\",\"B_38\",\"D_114\",\"D_116\",\"D_117\",\"D_120\",\"D_126\",\"D_63\",\"D_64\",\"D_66\",\"D_68\"]\n",
    "    num_features = [col for col in all_cols if col not in cat_features]\n",
    "\n",
    "    test_num_agg = df.groupby(\"customer_ID\")[num_features].agg(['mean', 'std', 'min', 'max', 'last'])\n",
    "    test_num_agg.columns = ['_'.join(x) for x in test_num_agg.columns]\n",
    "    test_num_agg.reset_index(inplace = True)\n",
    "\n",
    "    # Lag Features\n",
    "    for col in test_num_agg:\n",
    "        if 'last' in col and col.replace('last', 'mean') in test_num_agg:\n",
    "            test_num_agg[col + '_lag_sub'] = test_num_agg[col] - test_num_agg[col.replace('last', 'mean')]\n",
    "            test_num_agg[col + '_lag_div'] = test_num_agg[col] / (test_num_agg[col.replace('last', 'mean')] + 0.001)\n",
    "\n",
    "    test_cat_agg = df.groupby(\"customer_ID\")[cat_features].agg(['count','last', 'nunique'])\n",
    "    test_cat_agg.columns = ['_'.join(x) for x in test_cat_agg.columns]\n",
    "    test_cat_agg.reset_index(inplace = True)\n",
    "    \n",
    "    #cols = list(test_num_agg.dtypes[test_num_agg.dtypes == 'float64'].index)\n",
    "    #for col in tqdm(cols):\n",
    "    #    test_num_agg[col] = test_num_agg[col].astype(np.float32)\n",
    "    ## Transform int64 columns to int32\n",
    "    #cols = list(test_cat_agg.dtypes[test_cat_agg.dtypes == 'int64'].index)\n",
    "    #for col in tqdm(cols):\n",
    "    #    test_cat_agg[col] = test_cat_agg[col].astype(np.int32)\n",
    "    # Get the difference\n",
    "    df_diff = get_difference(df, num_features)\n",
    "    df = test_num_agg.merge(test_cat_agg, how = 'inner', on = 'customer_ID').merge(df_diff, how = 'inner', on = 'customer_ID')\n",
    "    #print(test_num_agg['customer_ID'].head())\n",
    "    #print(test_cat_agg['customer_ID'].head())\n",
    "    #print(df_diff['customer_ID'].head())\n",
    "    del test_num_agg, test_cat_agg\n",
    "    df.set_index('customer_ID',inplace = True)\n",
    "    print('shape after engineering', df.shape )\n",
    "    \n",
    "    \n",
    "    #cols = list(df.dtypes[df.dtypes == 'float64'].index)\n",
    "    #for col in tqdm(cols):\n",
    "    #    df[col] = df[col].astype(np.float32)\n",
    "    #cols = list(df.dtypes[df.dtypes == 'int64'].index)\n",
    "    #cols = [col for col in cols if col != 'customer_ID']\n",
    "    #for col in tqdm(cols):\n",
    "    #    df[col] = df[col].astype(np.int32)\n",
    "    #cols = list(df.dtypes[df.dtypes == 'object'].index)\n",
    "    #cols = [col for col in cols if col != 'customer_ID']\n",
    "    #for col in tqdm(cols):\n",
    "    #    df[col] = df[col].astype('category')\n",
    "    return df"
   ]
  },
  {
   "cell_type": "code",
   "execution_count": 5,
   "id": "42f37283",
   "metadata": {
    "execution": {
     "iopub.execute_input": "2022-09-13T23:45:39.796105Z",
     "iopub.status.busy": "2022-09-13T23:45:39.795837Z",
     "iopub.status.idle": "2022-09-13T23:45:39.802552Z",
     "shell.execute_reply": "2022-09-13T23:45:39.801800Z"
    },
    "papermill": {
     "duration": 0.012571,
     "end_time": "2022-09-13T23:45:39.804340",
     "exception": false,
     "start_time": "2022-09-13T23:45:39.791769",
     "status": "completed"
    },
    "tags": []
   },
   "outputs": [],
   "source": [
    "def amex_metric(y_true: np.array, y_pred: np.array) -> float:\n",
    "\n",
    "    # count of positives and negatives\n",
    "    n_pos = y_true.sum()\n",
    "    n_neg = y_true.shape[0] - n_pos\n",
    "\n",
    "    # sorting by descring prediction values\n",
    "    indices = np.argsort(y_pred)[::-1]\n",
    "    preds, target = y_pred[indices], y_true[indices]\n",
    "\n",
    "    # filter the top 4% by cumulative row weights\n",
    "    weight = 20.0 - target * 19.0\n",
    "    cum_norm_weight = (weight / weight.sum()).cumsum()\n",
    "    four_pct_filter = cum_norm_weight <= 0.04\n",
    "\n",
    "    # default rate captured at 4%\n",
    "    d = target[four_pct_filter].sum() / n_pos\n",
    "\n",
    "    # weighted gini coefficient\n",
    "    lorentz = (target / n_pos).cumsum()\n",
    "    gini = ((lorentz - cum_norm_weight) * weight).sum()\n",
    "\n",
    "    # max weighted gini coefficient\n",
    "    gini_max = 10 * n_neg * (1 - 19 / (n_pos + 20 * n_neg))\n",
    "\n",
    "    # normalized weighted gini coefficient\n",
    "    g = gini / gini_max\n",
    "\n",
    "    return 0.5 * (g + d)\n",
    "\n",
    "def lgb_amex_metric(y_true, y_pred):\n",
    "    return ('Score',\n",
    "            amex_metric(y_true, y_pred),\n",
    "            True)"
   ]
  },
  {
   "cell_type": "markdown",
   "id": "63f373d3",
   "metadata": {
    "papermill": {
     "duration": 0.003088,
     "end_time": "2022-09-13T23:45:39.811063",
     "exception": false,
     "start_time": "2022-09-13T23:45:39.807975",
     "status": "completed"
    },
    "tags": []
   },
   "source": [
    "# Make Predictions\n",
    "Since the Test Data is big, predicting all the results at once leads to an memory error. Split the data into 4 parts, make each prediction, and append them."
   ]
  },
  {
   "cell_type": "code",
   "execution_count": 6,
   "id": "58d5a51d",
   "metadata": {
    "execution": {
     "iopub.execute_input": "2022-09-13T23:45:39.818681Z",
     "iopub.status.busy": "2022-09-13T23:45:39.818369Z",
     "iopub.status.idle": "2022-09-13T23:45:44.641276Z",
     "shell.execute_reply": "2022-09-13T23:45:44.640413Z"
    },
    "papermill": {
     "duration": 4.829292,
     "end_time": "2022-09-13T23:45:44.643566",
     "exception": false,
     "start_time": "2022-09-13T23:45:39.814274",
     "status": "completed"
    },
    "tags": []
   },
   "outputs": [
    {
     "name": "stdout",
     "output_type": "stream",
     "text": [
      "Reading test data...\n",
      "shape of data: (11363762, 2)\n",
      "We will process test data as 4 separate parts.\n",
      "There will be 231155 customers in each part (except the last part).\n",
      "Below are number of rows in each part:\n",
      "[2841209, 2839857, 2842105, 2840591]\n"
     ]
    }
   ],
   "source": [
    "# CALCULATE SIZE OF EACH SEPARATE TEST PART\n",
    "def get_rows(customers, test, NUM_PARTS = 4, verbose = ''):\n",
    "    chunk = len(customers)//NUM_PARTS\n",
    "    if verbose != '':\n",
    "        print(f'We will process {verbose} data as {NUM_PARTS} separate parts.')\n",
    "        print(f'There will be {chunk} customers in each part (except the last part).')\n",
    "        print('Below are number of rows in each part:')\n",
    "    rows = []\n",
    "\n",
    "    for k in range(NUM_PARTS):\n",
    "        if k==NUM_PARTS-1: cc = customers[k*chunk:]\n",
    "        else: cc = customers[k*chunk:(k+1)*chunk]\n",
    "        s = test.loc[test.customer_ID.isin(cc)].shape[0]\n",
    "        rows.append(s)\n",
    "    if verbose != '': print( rows )\n",
    "    return rows,chunk\n",
    "\n",
    "# COMPUTE SIZE OF 4 PARTS FOR TEST DATA\n",
    "NUM_PARTS = 4\n",
    "TEST_PATH =  '../input/amex-data-integer-dtypes-parquet-format/test.parquet'\n",
    "\n",
    "print(f'Reading test data...')\n",
    "test = read_file(path = TEST_PATH, usecols = ['customer_ID','S_2'])\n",
    "customers = test[['customer_ID']].drop_duplicates().sort_index().values.flatten()\n",
    "rows,num_cust = get_rows(customers, test[['customer_ID']], NUM_PARTS = NUM_PARTS, verbose = 'test')"
   ]
  },
  {
   "cell_type": "code",
   "execution_count": 7,
   "id": "926ddd7a",
   "metadata": {
    "execution": {
     "iopub.execute_input": "2022-09-13T23:45:44.652892Z",
     "iopub.status.busy": "2022-09-13T23:45:44.652069Z",
     "iopub.status.idle": "2022-09-14T00:09:04.826162Z",
     "shell.execute_reply": "2022-09-14T00:09:04.825238Z"
    },
    "papermill": {
     "duration": 1400.181779,
     "end_time": "2022-09-14T00:09:04.829210",
     "exception": false,
     "start_time": "2022-09-13T23:45:44.647431",
     "status": "completed"
    },
    "tags": []
   },
   "outputs": [
    {
     "name": "stdout",
     "output_type": "stream",
     "text": [
      "\n",
      "Reading test data...\n",
      "shape of data: (11363762, 149)\n",
      "=> Test part 1 has shape (2841209, 149)\n",
      "shape after engineering (231155, 1121)\n"
     ]
    },
    {
     "data": {
      "text/html": [
       "<style type='text/css'>\n",
       ".datatable table.frame { margin-bottom: 0; }\n",
       ".datatable table.frame thead { border-bottom: none; }\n",
       ".datatable table.frame tr.coltypes td {  color: #FFFFFF;  line-height: 6px;  padding: 0 0.5em;}\n",
       ".datatable .bool    { background: #DDDD99; }\n",
       ".datatable .object  { background: #565656; }\n",
       ".datatable .int     { background: #5D9E5D; }\n",
       ".datatable .float   { background: #4040CC; }\n",
       ".datatable .str     { background: #CC4040; }\n",
       ".datatable .time    { background: #40CC40; }\n",
       ".datatable .row_index {  background: var(--jp-border-color3);  border-right: 1px solid var(--jp-border-color0);  color: var(--jp-ui-font-color3);  font-size: 9px;}\n",
       ".datatable .frame tbody td { text-align: left; }\n",
       ".datatable .frame tr.coltypes .row_index {  background: var(--jp-border-color0);}\n",
       ".datatable th:nth-child(2) { padding-left: 12px; }\n",
       ".datatable .hellipsis {  color: var(--jp-cell-editor-border-color);}\n",
       ".datatable .vellipsis {  background: var(--jp-layout-color0);  color: var(--jp-cell-editor-border-color);}\n",
       ".datatable .na {  color: var(--jp-cell-editor-border-color);  font-size: 80%;}\n",
       ".datatable .sp {  opacity: 0.25;}\n",
       ".datatable .footer { font-size: 9px; }\n",
       ".datatable .frame_dimensions {  background: var(--jp-border-color3);  border-top: 1px solid var(--jp-border-color0);  color: var(--jp-ui-font-color3);  display: inline-block;  opacity: 0.6;  padding: 1px 10px 1px 5px;}\n",
       "</style>\n"
      ],
      "text/plain": [
       "<IPython.core.display.HTML object>"
      ]
     },
     "metadata": {},
     "output_type": "display_data"
    },
    {
     "name": "stderr",
     "output_type": "stream",
     "text": [
      "/opt/conda/lib/python3.7/site-packages/lightgbm/basic.py:859: UserWarning: Converting data to scipy sparse matrix.\n",
      "  _log_warning('Converting data to scipy sparse matrix.')\n"
     ]
    },
    {
     "name": "stdout",
     "output_type": "stream",
     "text": [
      "\n",
      "Reading test data...\n",
      "shape of data: (11363762, 149)\n",
      "=> Test part 2 has shape (2839857, 149)\n",
      "shape after engineering (231155, 1121)\n",
      "\n",
      "Reading test data...\n",
      "shape of data: (11363762, 149)\n",
      "=> Test part 3 has shape (2842105, 149)\n",
      "shape after engineering (231155, 1121)\n",
      "\n",
      "Reading test data...\n",
      "shape of data: (11363762, 149)\n",
      "=> Test part 4 has shape (2840591, 149)\n",
      "shape after engineering (231156, 1121)\n"
     ]
    }
   ],
   "source": [
    "# INFER TEST DATA IN PARTS\n",
    "skip_rows = 0\n",
    "skip_cust = 0\n",
    "test_preds = []\n",
    "\n",
    "for k in range(NUM_PARTS):\n",
    "    \n",
    "    # READ PART OF TEST DATA\n",
    "    print(f'\\nReading test data...')\n",
    "    test = read_file(path = TEST_PATH)\n",
    "    test = test.iloc[skip_rows:skip_rows+rows[k]]\n",
    "    skip_rows += rows[k]\n",
    "    print(f'=> Test part {k+1} has shape', test.shape )\n",
    "    \n",
    "    # PROCESS AND FEATURE ENGINEER PART OF TEST DATA\n",
    "    test = process_and_feature_engineer(test)\n",
    "    test = test.fillna(NAN_VALUE)\n",
    "    if k==NUM_PARTS-1: test = test.loc[customers[skip_cust:]]\n",
    "    else: test = test.loc[customers[skip_cust:skip_cust+num_cust]]\n",
    "    skip_cust += num_cust\n",
    "    features = [f for f in test.columns if f != 'customer_ID' and f != 'target']\n",
    "    dtest = test[features].as_gpu_matrix()\n",
    "    del test \n",
    "    gc.collect()\n",
    "    # reduce memory test = test[['P_2_mean']] 必要だったら追加\n",
    "     # INFER LGBM MODELS ON TEST DATA\n",
    "    with open(f'../input/iris-model-amex-gpu/LGBM_v{VER}_fold0.pkl', 'rb') as pickle_file:\n",
    "        model = pickle.load(pickle_file)\n",
    "        preds = model.predict(dtest,raw_score=True)\n",
    "    for f in range(1,FOLDS):\n",
    "        with open(f'../input/iris-model-amex-gpu/LGBM_v{VER}_fold{f}.pkl', 'rb') as pickle_file:\n",
    "            model = pickle.load(pickle_file)\n",
    "            preds += model.predict(dtest,raw_score=True)\n",
    "    preds = preds / FOLDS\n",
    "    test_preds.append(preds)\n",
    "\n",
    "# CLEAN MEMORY\n",
    "del dtest, model\n",
    "_ = gc.collect()"
   ]
  },
  {
   "cell_type": "markdown",
   "id": "098cafaf",
   "metadata": {
    "papermill": {
     "duration": 0.006758,
     "end_time": "2022-09-14T00:09:04.843746",
     "exception": false,
     "start_time": "2022-09-14T00:09:04.836988",
     "status": "completed"
    },
    "tags": []
   },
   "source": [
    "# Make submission"
   ]
  },
  {
   "cell_type": "code",
   "execution_count": 8,
   "id": "d88a40af",
   "metadata": {
    "execution": {
     "iopub.execute_input": "2022-09-14T00:09:04.858404Z",
     "iopub.status.busy": "2022-09-14T00:09:04.857877Z",
     "iopub.status.idle": "2022-09-14T00:09:09.370508Z",
     "shell.execute_reply": "2022-09-14T00:09:09.369681Z"
    },
    "papermill": {
     "duration": 4.522362,
     "end_time": "2022-09-14T00:09:09.372666",
     "exception": false,
     "start_time": "2022-09-14T00:09:04.850304",
     "status": "completed"
    },
    "tags": []
   },
   "outputs": [],
   "source": [
    "test_predictions = np.concatenate(test_preds)\n",
    "\n",
    "submission = pd.read_csv(\"../input/amex-default-prediction/sample_submission.csv\")\n",
    "submission.loc[:, \"prediction\"] = test_predictions\n",
    "submission.to_csv(\"submission.csv\", index=False)"
   ]
  },
  {
   "cell_type": "code",
   "execution_count": 9,
   "id": "5f2b9d90",
   "metadata": {
    "execution": {
     "iopub.execute_input": "2022-09-14T00:09:09.383917Z",
     "iopub.status.busy": "2022-09-14T00:09:09.383073Z",
     "iopub.status.idle": "2022-09-14T00:09:09.394901Z",
     "shell.execute_reply": "2022-09-14T00:09:09.394082Z"
    },
    "papermill": {
     "duration": 0.019716,
     "end_time": "2022-09-14T00:09:09.397108",
     "exception": false,
     "start_time": "2022-09-14T00:09:09.377392",
     "status": "completed"
    },
    "tags": []
   },
   "outputs": [
    {
     "data": {
      "text/html": [
       "<div>\n",
       "<style scoped>\n",
       "    .dataframe tbody tr th:only-of-type {\n",
       "        vertical-align: middle;\n",
       "    }\n",
       "\n",
       "    .dataframe tbody tr th {\n",
       "        vertical-align: top;\n",
       "    }\n",
       "\n",
       "    .dataframe thead th {\n",
       "        text-align: right;\n",
       "    }\n",
       "</style>\n",
       "<table border=\"1\" class=\"dataframe\">\n",
       "  <thead>\n",
       "    <tr style=\"text-align: right;\">\n",
       "      <th></th>\n",
       "      <th>customer_ID</th>\n",
       "      <th>prediction</th>\n",
       "    </tr>\n",
       "  </thead>\n",
       "  <tbody>\n",
       "    <tr>\n",
       "      <th>0</th>\n",
       "      <td>00000469ba478561f23a92a868bd366de6f6527a684c9a...</td>\n",
       "      <td>-4.019906</td>\n",
       "    </tr>\n",
       "    <tr>\n",
       "      <th>1</th>\n",
       "      <td>00001bf2e77ff879fab36aa4fac689b9ba411dae63ae39...</td>\n",
       "      <td>-7.037694</td>\n",
       "    </tr>\n",
       "    <tr>\n",
       "      <th>2</th>\n",
       "      <td>0000210045da4f81e5f122c6bde5c2a617d03eef67f82c...</td>\n",
       "      <td>-3.345754</td>\n",
       "    </tr>\n",
       "    <tr>\n",
       "      <th>3</th>\n",
       "      <td>00003b41e58ede33b8daf61ab56d9952f17c9ad1c3976c...</td>\n",
       "      <td>-1.708149</td>\n",
       "    </tr>\n",
       "    <tr>\n",
       "      <th>4</th>\n",
       "      <td>00004b22eaeeeb0ec976890c1d9bfc14fd9427e98c4ee9...</td>\n",
       "      <td>1.978882</td>\n",
       "    </tr>\n",
       "  </tbody>\n",
       "</table>\n",
       "</div>"
      ],
      "text/plain": [
       "                                         customer_ID  prediction\n",
       "0  00000469ba478561f23a92a868bd366de6f6527a684c9a...   -4.019906\n",
       "1  00001bf2e77ff879fab36aa4fac689b9ba411dae63ae39...   -7.037694\n",
       "2  0000210045da4f81e5f122c6bde5c2a617d03eef67f82c...   -3.345754\n",
       "3  00003b41e58ede33b8daf61ab56d9952f17c9ad1c3976c...   -1.708149\n",
       "4  00004b22eaeeeb0ec976890c1d9bfc14fd9427e98c4ee9...    1.978882"
      ]
     },
     "execution_count": 9,
     "metadata": {},
     "output_type": "execute_result"
    }
   ],
   "source": [
    "submission.head()"
   ]
  },
  {
   "cell_type": "markdown",
   "id": "ff141814",
   "metadata": {
    "papermill": {
     "duration": 0.004452,
     "end_time": "2022-09-14T00:09:09.406493",
     "exception": false,
     "start_time": "2022-09-14T00:09:09.402041",
     "status": "completed"
    },
    "tags": []
   },
   "source": [
    "# Future Ideas\n",
    "\n",
    "- Use Optuna for hyperparmaeter tuning\n",
    "- Change Boosting method to DART: slower but better accuracy"
   ]
  }
 ],
 "metadata": {
  "kernelspec": {
   "display_name": "Python 3",
   "language": "python",
   "name": "python3"
  },
  "language_info": {
   "codemirror_mode": {
    "name": "ipython",
    "version": 3
   },
   "file_extension": ".py",
   "mimetype": "text/x-python",
   "name": "python",
   "nbconvert_exporter": "python",
   "pygments_lexer": "ipython3",
   "version": "3.7.12"
  },
  "papermill": {
   "default_parameters": {},
   "duration": 1423.449847,
   "end_time": "2022-09-14T00:09:10.934971",
   "environment_variables": {},
   "exception": null,
   "input_path": "__notebook__.ipynb",
   "output_path": "__notebook__.ipynb",
   "parameters": {},
   "start_time": "2022-09-13T23:45:27.485124",
   "version": "2.3.4"
  }
 },
 "nbformat": 4,
 "nbformat_minor": 5
}
